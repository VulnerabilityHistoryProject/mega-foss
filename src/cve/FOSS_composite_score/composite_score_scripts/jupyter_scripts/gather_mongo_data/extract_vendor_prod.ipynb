{
 "cells": [
  {
   "cell_type": "code",
   "execution_count": 1,
   "id": "3d62d73c",
   "metadata": {},
   "outputs": [
    {
     "name": "stdout",
     "output_type": "stream",
     "text": [
      "Connected to MongoDB!\n"
     ]
    }
   ],
   "source": [
    "from pymongo import MongoClient\n",
    "\n",
    "uri = \"mongodb://localhost:27017\"\n",
    "client = MongoClient(uri)\n",
    "\n",
    "try:\n",
    "    client.admin.command(\"ping\")\n",
    "    print(\"Connected to MongoDB!\")\n",
    "except :\n",
    "    print(\"❌ Could not connect to MongoDB:\")\n",
    "\n"
   ]
  },
  {
   "cell_type": "code",
   "execution_count": 2,
   "id": "93c40219",
   "metadata": {},
   "outputs": [
    {
     "name": "stdout",
     "output_type": "stream",
     "text": [
      "Databases: ['admin', 'config', 'foss_github_data', 'local', 'nvdcve']\n",
      "✅ Database 'nvdcve' exists.\n",
      "Collections: ['nvdcve']\n",
      "✅ Collection 'nvdcve' exists.\n"
     ]
    }
   ],
   "source": [
    "# List available databases\n",
    "db_list = client.list_database_names()\n",
    "print(\"Databases:\", db_list)\n",
    "\n",
    "# Check if your database exists\n",
    "db_name = \"nvdcve\"\n",
    "if db_name in db_list:\n",
    "    db = client[db_name]\n",
    "    print(f\"✅ Database '{db_name}' exists.\")\n",
    "    \n",
    "    # List collections in that database\n",
    "    collection_list = db.list_collection_names()\n",
    "    print(\"Collections:\", collection_list)\n",
    "\n",
    "    # Check if your collection exists\n",
    "    collection_name = \"nvdcve\"\n",
    "    if collection_name in collection_list:\n",
    "        print(f\"✅ Collection '{collection_name}' exists.\")\n",
    "    else:\n",
    "        print(f\"❌ Collection '{collection_name}' does not exist.\")\n",
    "else:\n",
    "    print(f\"❌ Database '{db_name}' does not exist.\")\n"
   ]
  },
  {
   "cell_type": "code",
   "execution_count": 3,
   "id": "781155be",
   "metadata": {},
   "outputs": [
    {
     "name": "stdout",
     "output_type": "stream",
     "text": [
      "{'_id': ObjectId('68000746fe426ba2c401febe'), 'cve': {'data_type': 'CVE', 'data_format': 'MITRE', 'data_version': '4.0', 'CVE_data_meta': {'ID': 'CVE-1999-0001', 'ASSIGNER': 'cve@mitre.org'}, 'problemtype': {'problemtype_data': [{'description': [{'lang': 'en', 'value': 'CWE-20'}]}]}, 'references': {'reference_data': [{'url': 'http://www.openbsd.org/errata23.html#tcpfix', 'name': 'http://www.openbsd.org/errata23.html#tcpfix', 'refsource': '', 'tags': []}, {'url': 'http://www.openbsd.org/errata23.html#tcpfix', 'name': 'http://www.openbsd.org/errata23.html#tcpfix', 'refsource': '', 'tags': []}, {'url': 'http://www.osvdb.org/5707', 'name': '5707', 'refsource': '', 'tags': []}, {'url': 'http://www.osvdb.org/5707', 'name': '5707', 'refsource': '', 'tags': []}]}, 'description': {'description_data': [{'lang': 'en', 'value': 'ip_input.c in BSD-derived TCP/IP implementations allows remote attackers to cause a denial of service (crash or hang) via crafted packets.'}]}}, 'configurations': {'CVE_data_version': '4.0', 'nodes': [{'operator': 'OR', 'children': [], 'cpe_match': [{'vulnerable': True, 'cpe23Uri': 'cpe:2.3:o:freebsd:freebsd:2.2.5:*:*:*:*:*:*:*', 'cpe_name': []}, {'vulnerable': True, 'cpe23Uri': 'cpe:2.3:o:freebsd:freebsd:2.2.2:*:*:*:*:*:*:*', 'cpe_name': []}, {'vulnerable': True, 'cpe23Uri': 'cpe:2.3:o:freebsd:freebsd:2.1.7:*:*:*:*:*:*:*', 'cpe_name': []}, {'vulnerable': True, 'cpe23Uri': 'cpe:2.3:o:freebsd:freebsd:2.2.3:*:*:*:*:*:*:*', 'cpe_name': []}, {'vulnerable': True, 'cpe23Uri': 'cpe:2.3:o:freebsd:freebsd:2.0.5:*:*:*:*:*:*:*', 'cpe_name': []}, {'vulnerable': True, 'cpe23Uri': 'cpe:2.3:o:freebsd:freebsd:1.1.5.1:*:*:*:*:*:*:*', 'cpe_name': []}, {'vulnerable': True, 'cpe23Uri': 'cpe:2.3:o:bsdi:bsd_os:3.1:*:*:*:*:*:*:*', 'cpe_name': []}, {'vulnerable': True, 'cpe23Uri': 'cpe:2.3:o:freebsd:freebsd:1.0:*:*:*:*:*:*:*', 'cpe_name': []}, {'vulnerable': True, 'cpe23Uri': 'cpe:2.3:o:freebsd:freebsd:2.2:*:*:*:*:*:*:*', 'cpe_name': []}, {'vulnerable': True, 'cpe23Uri': 'cpe:2.3:o:freebsd:freebsd:2.2.8:*:*:*:*:*:*:*', 'cpe_name': []}, {'vulnerable': True, 'cpe23Uri': 'cpe:2.3:o:freebsd:freebsd:2.2.4:*:*:*:*:*:*:*', 'cpe_name': []}, {'vulnerable': True, 'cpe23Uri': 'cpe:2.3:o:freebsd:freebsd:2.2.6:*:*:*:*:*:*:*', 'cpe_name': []}, {'vulnerable': True, 'cpe23Uri': 'cpe:2.3:o:freebsd:freebsd:2.1.6:*:*:*:*:*:*:*', 'cpe_name': []}, {'vulnerable': True, 'cpe23Uri': 'cpe:2.3:o:freebsd:freebsd:1.1:*:*:*:*:*:*:*', 'cpe_name': []}, {'vulnerable': True, 'cpe23Uri': 'cpe:2.3:o:freebsd:freebsd:2.1.6.1:*:*:*:*:*:*:*', 'cpe_name': []}, {'vulnerable': True, 'cpe23Uri': 'cpe:2.3:o:freebsd:freebsd:2.1.7.1:*:*:*:*:*:*:*', 'cpe_name': []}, {'vulnerable': True, 'cpe23Uri': 'cpe:2.3:o:freebsd:freebsd:3.0:*:*:*:*:*:*:*', 'cpe_name': []}, {'vulnerable': True, 'cpe23Uri': 'cpe:2.3:o:openbsd:openbsd:2.4:*:*:*:*:*:*:*', 'cpe_name': []}, {'vulnerable': True, 'cpe23Uri': 'cpe:2.3:o:freebsd:freebsd:2.1.5:*:*:*:*:*:*:*', 'cpe_name': []}, {'vulnerable': True, 'cpe23Uri': 'cpe:2.3:o:freebsd:freebsd:2.0.1:*:*:*:*:*:*:*', 'cpe_name': []}, {'vulnerable': True, 'cpe23Uri': 'cpe:2.3:o:freebsd:freebsd:1.2:*:*:*:*:*:*:*', 'cpe_name': []}, {'vulnerable': True, 'cpe23Uri': 'cpe:2.3:o:openbsd:openbsd:2.3:*:*:*:*:*:*:*', 'cpe_name': []}, {'vulnerable': True, 'cpe23Uri': 'cpe:2.3:o:freebsd:freebsd:2.0:*:*:*:*:*:*:*', 'cpe_name': []}]}]}, 'impact': {'baseMetricV2': {'cvssV2': {'version': '2.0', 'vectorString': 'AV:N/AC:L/Au:N/C:N/I:N/A:P', 'accessVector': 'NETWORK', 'accessComplexity': 'LOW', 'authentication': 'NONE', 'confidentialityImpact': 'NONE', 'integrityImpact': 'NONE', 'availabilityImpact': 'PARTIAL', 'baseScore': 5.0}, 'severity': 'MEDIUM', 'exploitabilityScore': 10.0, 'impactScore': 2.9, 'obtainAllPrivilege': False, 'obtainUserPrivilege': False, 'obtainOtherPrivilege': False, 'userInteractionRequired': False}}, 'publishedDate': '1999-12-30T05:00Z', 'lastModifiedDate': '2024-11-20T23:27Z'}\n"
     ]
    }
   ],
   "source": [
    "### Get the CVE database ###\n",
    "CVE_DB = client[\"nvdcve\"]\n",
    "\n",
    "### Get the NVD CVE collection ###\n",
    "NVD_CVE_COLLECTION = CVE_DB[\"nvdcve\"]\n",
    "\n",
    "\n",
    "### Get a sample of the collection documents\n",
    "for doc in NVD_CVE_COLLECTION.find().limit(1):\n",
    "    print(doc)\n"
   ]
  },
  {
   "cell_type": "code",
   "execution_count": 6,
   "id": "ac2627fa",
   "metadata": {},
   "outputs": [],
   "source": [
    "import re\n",
    "\n",
    "### Regex pattern for getting vendor:product:version from CPE\n",
    "pattern = re.compile(r'cpe:2\\.3:[aho]:([^:]+):([^:]+):([^:]+)')\n",
    "\n",
    "results = []\n",
    "for doc in NVD_CVE_COLLECTION.find({}):\n",
    "    cve_id = doc.get(\"cve\", {}).get(\"CVE_data_meta\", {}).get(\"ID\", None)\n",
    "\n",
    "    # Extract list of all CWE values\n",
    "    cwe_list = []\n",
    "    try:\n",
    "        for desc in doc[\"cve\"][\"problemtype\"][\"problemtype_data\"][0][\"description\"]:\n",
    "            val = desc.get(\"value\")\n",
    "            if val:\n",
    "                cwe_list.append(val)\n",
    "    except (KeyError, IndexError):\n",
    "        pass\n",
    "\n",
    "    # Extract CVE description\n",
    "    description = None\n",
    "    try:\n",
    "        description = doc[\"cve\"][\"description\"][\"description_data\"][0][\"value\"]\n",
    "    except (KeyError, IndexError):\n",
    "        pass\n",
    "\n",
    "    # Extract CPEs into vendor:product -> [versions] dict\n",
    "    cpe_dict = {}\n",
    "    try:\n",
    "        for node in doc.get(\"configurations\", {}).get(\"nodes\", []):\n",
    "            for match in node.get(\"cpe_match\", []):\n",
    "                cpe_uri = match.get(\"cpe23Uri\", \"\")\n",
    "                m = pattern.match(cpe_uri)\n",
    "                if m:\n",
    "                    vendor, product, version = m.groups()\n",
    "                    key = f\"{vendor} {product}\"\n",
    "                    cpe_dict.setdefault(key, []).append(version)\n",
    "    except Exception as e:\n",
    "        print(\"Error parsing CPEs:\", e)\n",
    "\n",
    "    results.append({\n",
    "        \"cve_id\": cve_id,\n",
    "        \"cwe_val\": cwe_list,\n",
    "        \"cve_description\": description,\n",
    "        \"cpes_with_versions\": cpe_dict,\n",
    "        \"foss_vec_matches\": []  # Will be populated later\n",
    "    })\n",
    "\n",
    "\n"
   ]
  },
  {
   "cell_type": "code",
   "execution_count": 7,
   "id": "61c495d1",
   "metadata": {},
   "outputs": [],
   "source": [
    "### Write data to CSV ###\n",
    "import json\n",
    "\n",
    "with open(\"cve-cpe-foss_data.json\", \"w\", encoding=\"utf-8\") as f:\n",
    "    json.dump(results, f, indent=2, ensure_ascii=False)"
   ]
  },
  {
   "cell_type": "code",
   "execution_count": null,
   "id": "9aa66f96",
   "metadata": {},
   "outputs": [],
   "source": [
    "\"\"\"\n",
    "cve_id: id,\n",
    "cwe_val: cwe,\n",
    "cve description: text,\n",
    "set of unique cpes with versions: dict[vendor product : list[versions]],\n",
    "foss_vec_matches: list[dict[name of model (Nomic): {'foss_project_name': 'FFmpeg FFmpeg',\n",
    "  'vector_certainty': 0.9790698885917664,\n",
    "  'vector_distance': 0.041860222816467285}]]\n",
    "\n",
    "  *** I want to get the top 3 results across all models. ***\n",
    "                        \n",
    "                            \n",
    "\n",
    "\"\"\""
   ]
  },
  {
   "cell_type": "code",
   "execution_count": null,
   "id": "047b2e51",
   "metadata": {},
   "outputs": [],
   "source": [
    "### Create a new mongoDB collection with this new data. ###\n",
    "\n",
    "# Now, you can insert `results` into your MongoDB collection\n",
    "##NEW_COLLECTION.insert_many(result"
   ]
  }
 ],
 "metadata": {
  "kernelspec": {
   "display_name": "pydriller_env",
   "language": "python",
   "name": "python3"
  },
  "language_info": {
   "codemirror_mode": {
    "name": "ipython",
    "version": 3
   },
   "file_extension": ".py",
   "mimetype": "text/x-python",
   "name": "python",
   "nbconvert_exporter": "python",
   "pygments_lexer": "ipython3",
   "version": "3.13.1"
  }
 },
 "nbformat": 4,
 "nbformat_minor": 5
}
