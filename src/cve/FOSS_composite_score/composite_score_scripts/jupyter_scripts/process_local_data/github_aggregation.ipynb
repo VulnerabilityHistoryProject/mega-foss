{
 "cells": [
  {
   "cell_type": "code",
   "execution_count": 2,
   "metadata": {},
   "outputs": [],
   "source": [
    "from pathlib import Path\n",
    "import pandas as pd\n",
    "\n",
    "### Loading in data collected from github api\n",
    "\n",
    "github_csv: Path = Path(\"../csv_github_data_cleaned/github_repositories_final.csv\")\n",
    "\n",
    "github_df = pd.read_csv(github_csv)\n",
    "\n"
   ]
  },
  {
   "cell_type": "code",
   "execution_count": 3,
   "metadata": {},
   "outputs": [],
   "source": [
    "### Sorting by stars to organize data\n",
    "github_df = github_df.sort_values(by=['stars', 'forks', 'issues', 'watchers'], ascending=False).reset_index(drop=True)"
   ]
  },
  {
   "cell_type": "code",
   "execution_count": null,
   "metadata": {},
   "outputs": [],
   "source": [
    "### Getting the length before and after removing duplicates\n",
    "\n",
    "print(\"Before:\", len(github_df))\n",
    "github_df = github_df.drop_duplicates(subset=['FOSS project name'])\n",
    "print(\"After:\", len(github_df))\n",
    "\n",
    "github_df = github_df.reset_index(drop=True)\n",
    "\n"
   ]
  },
  {
   "cell_type": "code",
   "execution_count": 6,
   "metadata": {},
   "outputs": [],
   "source": [
    "github_df['FOSS project name'] = github_df['FOSS project name'].str.replace('/', ' ', regex=False)\n"
   ]
  },
  {
   "cell_type": "code",
   "execution_count": 7,
   "metadata": {},
   "outputs": [],
   "source": [
    "### Writing entire dataframe to json so that values are ordered according to stars\n",
    "github_df.to_json(\"../json_github_data_cleaned/github_repositories_final_ordered.json\", orient=\"records\",lines=False,indent=2)"
   ]
  },
  {
   "cell_type": "code",
   "execution_count": null,
   "metadata": {},
   "outputs": [],
   "source": [
    "### Writing all columns to their own csvs ###\n",
    "github_df[['FOSS project name']].to_csv('FOSS_projects_slash.csv', index=False,header=False)"
   ]
  },
  {
   "cell_type": "code",
   "execution_count": null,
   "metadata": {},
   "outputs": [],
   "source": [
    "github_df['name_clean'] = github_df['FOSS project name'].str.replace('/', ' ')  # Replace with space\n",
    "github_df['name_clean'].to_csv('FOSS_projects_space.csv', index=False, header=False)\n"
   ]
  },
  {
   "cell_type": "code",
   "execution_count": null,
   "metadata": {},
   "outputs": [],
   "source": [
    "github_df['name_clean'] = github_df['FOSS project name'].str.replace('/', '_')  # Replace with space\n",
    "github_df['name_clean'].to_csv('FOSS_projects_underscore.csv', index=False, header=False)\n"
   ]
  },
  {
   "cell_type": "code",
   "execution_count": null,
   "metadata": {},
   "outputs": [],
   "source": [
    "github_df['name_clean'] = github_df['FOSS project name'].str.replace('/', ':')  # Replace with space\n",
    "github_df['name_clean'].to_csv('FOSS_projects_colon.csv', index=False, header=False)\n"
   ]
  },
  {
   "cell_type": "code",
   "execution_count": null,
   "metadata": {},
   "outputs": [],
   "source": [
    "github_df['name_clean'] = github_df['FOSS project name'].str.replace('/', '-')  # Replace with space\n",
    "github_df['name_clean'].to_csv('FOSS_projects_dash.csv', index=False, header=False)\n"
   ]
  }
 ],
 "metadata": {
  "kernelspec": {
   "display_name": "pydriller_env",
   "language": "python",
   "name": "python3"
  },
  "language_info": {
   "codemirror_mode": {
    "name": "ipython",
    "version": 3
   },
   "file_extension": ".py",
   "mimetype": "text/x-python",
   "name": "python",
   "nbconvert_exporter": "python",
   "pygments_lexer": "ipython3",
   "version": "3.13.1"
  }
 },
 "nbformat": 4,
 "nbformat_minor": 2
}
