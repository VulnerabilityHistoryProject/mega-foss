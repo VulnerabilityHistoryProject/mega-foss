{
 "cells": [
  {
   "cell_type": "code",
   "execution_count": 2,
   "id": "6193d9b6",
   "metadata": {},
   "outputs": [
    {
     "data": {
      "text/plain": [
       "True"
      ]
     },
     "execution_count": 2,
     "metadata": {},
     "output_type": "execute_result"
    }
   ],
   "source": [
    "import os\n",
    "import weaviate\n",
    "from weaviate.classes.init import Auth\n",
    "from dotenv import load_dotenv\n",
    "import os\n",
    "\n",
    "\n",
    "\n",
    "### Load envs\n",
    "load_dotenv()\n",
    "WEAVIATE_URL = os.getenv(\"WEAVIATE_URL\")\n",
    "WEAVIATE_API_KEY = os.getenv(\"WEAVIATE_API_KEY\")\n",
    "\n",
    "# # Best practice: store your credentials in environment variables\n",
    "# weaviate_url = os.environ[\"WEAVIATE_URL\"]\n",
    "# weaviate_api_key = os.environ[\"WEAVIATE_API_KEY\"]\n",
    "\n",
    "# Connect to Weaviate Cloud\n",
    "client = weaviate.connect_to_weaviate_cloud(\n",
    "    cluster_url=WEAVIATE_URL,\n",
    "    auth_credentials=Auth.api_key(WEAVIATE_API_KEY),\n",
    ")\n",
    "\n",
    "\n",
    "client.is_ready()"
   ]
  },
  {
   "cell_type": "code",
   "execution_count": null,
   "id": "c339dca2",
   "metadata": {},
   "outputs": [],
   "source": [
    "import weaviate.classes.config as wvc\n",
    "### Try creating a collection and defining the schema\n",
    "\"\"\"\n",
    "class_obj = {\n",
    "    \"class\": \"FOSSProject\",\n",
    "    \"description\": \"Open source projects with name and description\",\n",
    "    \"vectorizer\": \"none\",  # Since you're supplying your own vectors\n",
    "    \"properties\": [\n",
    "        {\n",
    "            \"name\": \"name\",\n",
    "            \"dataType\": [\"text\"],\n",
    "            \"description\": \"Name of the project\",\n",
    "            \"hash\": \"Hash of FOSS name\"\n",
    "        },\n",
    "        {\n",
    "            \"name\": \"description\",\n",
    "            \"dataType\": [\"text\"],\n",
    "            \"description\": \"Project description\",\n",
    "            \"hash\": \"Hash of FOSS name\"\n",
    "        }\n",
    "    ]\n",
    "}\"\"\"\n",
    "\n",
    "\n",
    "\n",
    "# For Python client v4\n",
    "foss_wvc_collection = client.collections.create(\n",
    "    name=\"FOSSProject\",\n",
    "    description=\"Open source projects with name and description\",\n",
    "    vectorizer_config=[\n",
    "        wvc.Configure.NamedVectors.none(name=\"name_vector\"),\n",
    "        wvc.Configure.NamedVectors.none(name=\"combined_vector\")\n",
    "    ],\n",
    "    properties=[\n",
    "        wvc.Property(name=\"name\", data_type=wvc.DataType.TEXT, description=\"Name of the project\"),\n",
    "        wvc.Property(name=\"description\", data_type=wvc.DataType.TEXT, description=\"Project description\"),\n",
    "        wvc.Property(name=\"foss_hash\", data_type=wvc.DataType.TEXT,description=\"Hash of FOSS project name\")\n",
    "    ]\n",
    ")"
   ]
  },
  {
   "cell_type": "code",
   "execution_count": 4,
   "id": "0",
   "metadata": {},
   "outputs": [
    {
     "ename": "ValueError",
     "evalue": "You have not configured your Nomic API token. Run `nomic login` to configure.",
     "output_type": "error",
     "traceback": [
      "\u001b[0;31m---------------------------------------------------------------------------\u001b[0m",
      "\u001b[0;31mValueError\u001b[0m                                Traceback (most recent call last)",
      "Cell \u001b[0;32mIn[4], line 23\u001b[0m\n\u001b[1;32m     21\u001b[0m string \u001b[38;5;241m=\u001b[39m [\u001b[38;5;124m\"\u001b[39m\u001b[38;5;124mollama:ollama\u001b[39m\u001b[38;5;124m\"\u001b[39m]\n\u001b[1;32m     22\u001b[0m \u001b[38;5;66;03m# Get embeddings\u001b[39;00m\n\u001b[0;32m---> 23\u001b[0m embeddings \u001b[38;5;241m=\u001b[39m \u001b[43mNOMIC_EMBED\u001b[49m\u001b[38;5;241;43m.\u001b[39;49m\u001b[43mtext\u001b[49m\u001b[43m(\u001b[49m\u001b[43mstring\u001b[49m\u001b[43m)\u001b[49m\n\u001b[1;32m     24\u001b[0m \u001b[38;5;28mprint\u001b[39m(embeddings[\u001b[38;5;241m0\u001b[39m])\n\u001b[1;32m     26\u001b[0m response \u001b[38;5;241m=\u001b[39m ollama_nomic_embed(string[\u001b[38;5;241m0\u001b[39m])\n",
      "File \u001b[0;32m~/miniconda3/envs/pydriller_env/lib/python3.13/site-packages/nomic/embed.py:206\u001b[0m, in \u001b[0;36mtext\u001b[0;34m(texts, model, task_type, dimensionality, long_text_mode, inference_mode, device, **kwargs)\u001b[0m\n\u001b[1;32m    203\u001b[0m     \u001b[38;5;28;01mexcept\u001b[39;00m CancellationError:\n\u001b[1;32m    204\u001b[0m         \u001b[38;5;28;01mpass\u001b[39;00m  \u001b[38;5;66;03m# dynamic mode chose to use Atlas, fall through\u001b[39;00m\n\u001b[0;32m--> 206\u001b[0m \u001b[38;5;28;01mreturn\u001b[39;00m \u001b[43m_text_atlas\u001b[49m\u001b[43m(\u001b[49m\u001b[43mtexts\u001b[49m\u001b[43m,\u001b[49m\u001b[43m \u001b[49m\u001b[43mmodel\u001b[49m\u001b[43m,\u001b[49m\u001b[43m \u001b[49m\u001b[43mtask_type\u001b[49m\u001b[43m,\u001b[49m\u001b[43m \u001b[49m\u001b[43mdimensionality\u001b[49m\u001b[43m,\u001b[49m\u001b[43m \u001b[49m\u001b[43mlong_text_mode\u001b[49m\u001b[43m)\u001b[49m\n",
      "File \u001b[0;32m~/miniconda3/envs/pydriller_env/lib/python3.13/site-packages/nomic/embed.py:230\u001b[0m, in \u001b[0;36m_text_atlas\u001b[0;34m(texts, model, task_type, dimensionality, long_text_mode)\u001b[0m\n\u001b[1;32m    225\u001b[0m     logging\u001b[38;5;241m.\u001b[39mwarning(\n\u001b[1;32m    226\u001b[0m         \u001b[38;5;124mf\u001b[39m\u001b[38;5;124m\"\u001b[39m\u001b[38;5;124mDimensionality \u001b[39m\u001b[38;5;132;01m{\u001b[39;00mdimensionality\u001b[38;5;132;01m}\u001b[39;00m\u001b[38;5;124m is less than the suggested of \u001b[39m\u001b[38;5;132;01m{\u001b[39;00mMIN_EMBEDDING_DIMENSIONALITY\u001b[38;5;132;01m}\u001b[39;00m\u001b[38;5;124m. Performance may be degraded.\u001b[39m\u001b[38;5;124m\"\u001b[39m\n\u001b[1;32m    227\u001b[0m     )\n\u001b[1;32m    229\u001b[0m \u001b[38;5;28;01mif\u001b[39;00m atlas_class \u001b[38;5;129;01mis\u001b[39;00m \u001b[38;5;28;01mNone\u001b[39;00m:\n\u001b[0;32m--> 230\u001b[0m     atlas_class \u001b[38;5;241m=\u001b[39m \u001b[43mAtlasClass\u001b[49m\u001b[43m(\u001b[49m\u001b[43m)\u001b[49m\n\u001b[1;32m    231\u001b[0m max_workers \u001b[38;5;241m=\u001b[39m \u001b[38;5;241m10\u001b[39m\n\u001b[1;32m    232\u001b[0m chunksize \u001b[38;5;241m=\u001b[39m MAX_TEXT_REQUEST_SIZE\n",
      "File \u001b[0;32m~/miniconda3/envs/pydriller_env/lib/python3.13/site-packages/nomic/dataset.py:52\u001b[0m, in \u001b[0;36mAtlasClass.__init__\u001b[0;34m(self)\u001b[0m\n\u001b[1;32m     47\u001b[0m \u001b[38;5;28;01mdef\u001b[39;00m\u001b[38;5;250m \u001b[39m\u001b[38;5;21m__init__\u001b[39m(\u001b[38;5;28mself\u001b[39m):\n\u001b[1;32m     48\u001b[0m \u001b[38;5;250m    \u001b[39m\u001b[38;5;124;03m\"\"\"\u001b[39;00m\n\u001b[1;32m     49\u001b[0m \u001b[38;5;124;03m    Initializes the Atlas client.\u001b[39;00m\n\u001b[1;32m     50\u001b[0m \u001b[38;5;124;03m    \"\"\"\u001b[39;00m\n\u001b[0;32m---> 52\u001b[0m     \u001b[38;5;28;01mif\u001b[39;00m \u001b[38;5;28;43mself\u001b[39;49m\u001b[38;5;241;43m.\u001b[39;49m\u001b[43mcredentials\u001b[49m[\u001b[38;5;124m\"\u001b[39m\u001b[38;5;124mtenant\u001b[39m\u001b[38;5;124m\"\u001b[39m] \u001b[38;5;241m==\u001b[39m \u001b[38;5;124m\"\u001b[39m\u001b[38;5;124mstaging\u001b[39m\u001b[38;5;124m\"\u001b[39m:\n\u001b[1;32m     53\u001b[0m         api_hostname \u001b[38;5;241m=\u001b[39m \u001b[38;5;124m\"\u001b[39m\u001b[38;5;124mstaging-api-atlas.nomic.ai\u001b[39m\u001b[38;5;124m\"\u001b[39m\n\u001b[1;32m     54\u001b[0m         web_hostname \u001b[38;5;241m=\u001b[39m \u001b[38;5;124m\"\u001b[39m\u001b[38;5;124mstaging-atlas.nomic.ai\u001b[39m\u001b[38;5;124m\"\u001b[39m\n",
      "File \u001b[0;32m~/miniconda3/envs/pydriller_env/lib/python3.13/site-packages/nomic/dataset.py:103\u001b[0m, in \u001b[0;36mAtlasClass.credentials\u001b[0;34m(self)\u001b[0m\n\u001b[1;32m    101\u001b[0m \u001b[38;5;129m@property\u001b[39m\n\u001b[1;32m    102\u001b[0m \u001b[38;5;28;01mdef\u001b[39;00m\u001b[38;5;250m \u001b[39m\u001b[38;5;21mcredentials\u001b[39m(\u001b[38;5;28mself\u001b[39m):\n\u001b[0;32m--> 103\u001b[0m     \u001b[38;5;28;01mreturn\u001b[39;00m \u001b[43mrefresh_bearer_token\u001b[49m\u001b[43m(\u001b[49m\u001b[43m)\u001b[49m\n",
      "File \u001b[0;32m~/miniconda3/envs/pydriller_env/lib/python3.13/site-packages/nomic/cli.py:96\u001b[0m, in \u001b[0;36mrefresh_bearer_token\u001b[0;34m()\u001b[0m\n\u001b[1;32m     95\u001b[0m \u001b[38;5;28;01mdef\u001b[39;00m\u001b[38;5;250m \u001b[39m\u001b[38;5;21mrefresh_bearer_token\u001b[39m():\n\u001b[0;32m---> 96\u001b[0m     credentials \u001b[38;5;241m=\u001b[39m \u001b[43mget_api_credentials\u001b[49m\u001b[43m(\u001b[49m\u001b[43m)\u001b[49m\n\u001b[1;32m     97\u001b[0m     \u001b[38;5;28;01mif\u001b[39;00m credentials[\u001b[38;5;124m\"\u001b[39m\u001b[38;5;124mexpires\u001b[39m\u001b[38;5;124m\"\u001b[39m] \u001b[38;5;129;01mand\u001b[39;00m time\u001b[38;5;241m.\u001b[39mtime() \u001b[38;5;241m>\u001b[39m\u001b[38;5;241m=\u001b[39m credentials[\u001b[38;5;124m\"\u001b[39m\u001b[38;5;124mexpires\u001b[39m\u001b[38;5;124m\"\u001b[39m]:\n\u001b[1;32m     98\u001b[0m         \u001b[38;5;28;01mtry\u001b[39;00m:\n",
      "File \u001b[0;32m~/miniconda3/envs/pydriller_env/lib/python3.13/site-packages/nomic/cli.py:31\u001b[0m, in \u001b[0;36mget_api_credentials\u001b[0;34m(fn)\u001b[0m\n\u001b[1;32m     29\u001b[0m filepath \u001b[38;5;241m=\u001b[39m nomic_base_path \u001b[38;5;241m/\u001b[39m fn\n\u001b[1;32m     30\u001b[0m \u001b[38;5;28;01mif\u001b[39;00m \u001b[38;5;129;01mnot\u001b[39;00m filepath\u001b[38;5;241m.\u001b[39mexists():\n\u001b[0;32m---> 31\u001b[0m     \u001b[38;5;28;01mraise\u001b[39;00m \u001b[38;5;167;01mValueError\u001b[39;00m(\u001b[38;5;124m\"\u001b[39m\u001b[38;5;124mYou have not configured your Nomic API token. Run `nomic login` to configure.\u001b[39m\u001b[38;5;124m\"\u001b[39m)\n\u001b[1;32m     33\u001b[0m \u001b[38;5;28;01mwith\u001b[39;00m \u001b[38;5;28mopen\u001b[39m(filepath, \u001b[38;5;124m\"\u001b[39m\u001b[38;5;124mr\u001b[39m\u001b[38;5;124m\"\u001b[39m) \u001b[38;5;28;01mas\u001b[39;00m file:\n\u001b[1;32m     34\u001b[0m     credentials \u001b[38;5;241m=\u001b[39m json\u001b[38;5;241m.\u001b[39mload(file)\n",
      "\u001b[0;31mValueError\u001b[0m: You have not configured your Nomic API token. Run `nomic login` to configure."
     ]
    }
   ],
   "source": [
    "import ollama\n",
    "from nomic import embed as NOMIC_EMBED\n",
    "import sentence_transformers as SBERT\n",
    "import numpy as np\n",
    "\n",
    "\n",
    "\n",
    "OLLAMA_NOMIC_MODEL = 'nomic-embed-text'\n",
    "\n",
    "\n",
    "\n",
    "def ollama_nomic_embed(prompt: str) -> list[float]:\n",
    "\n",
    "    response = ollama.embeddings(\n",
    "        model=OLLAMA_NOMIC_MODEL,\n",
    "        prompt=prompt\n",
    "    )\n",
    "\n",
    "    return response['embedding']\n",
    "\n",
    "string = [\"ollama:ollama\"]\n",
    "# Get embeddings\n",
    "embeddings = NOMIC_EMBED.text(string)\n",
    "print(embeddings[0])\n",
    "\n",
    "response = ollama_nomic_embed(string[0])\n",
    "print(response)\n"
   ]
  },
  {
   "cell_type": "code",
   "execution_count": null,
   "id": "1",
   "metadata": {},
   "outputs": [
    {
     "name": "stdout",
     "output_type": "stream",
     "text": [
      "[0.036939382553100586, -0.42223700881004333, -3.664456844329834, 0.4896526038646698, 2.703233003616333, -1.3221014738082886, 1.1219252347946167, 0.42916998267173767, 1.3650630712509155, -2.458561897277832, -0.4048089385032654, 0.9663305878639221, 1.2907313108444214, 1.5350327491760254, -0.72764652967453, -0.6362704634666443, 0.2352897673845291, -0.24649213254451752, -0.5770887732505798, -0.06262727081775665, -0.7517426609992981, -0.17988982796669006, -1.3437236547470093, 1.3741759061813354, 2.0462088584899902, 1.1033308506011963, 0.2465982586145401, 0.5096945762634277, -2.1097898483276367, -0.2841247022151947, -0.5877325534820557, 0.8428031802177429, -1.3818109035491943, 0.40201863646507263, 0.4478963315486908, -0.5781090259552002, -0.9265671372413635, -0.09855188429355621, -0.8459641337394714, -0.10208415240049362, -0.42278945446014404, -0.6062077879905701, 0.0696372538805008, -0.8224694132804871, 2.199431896209717, -0.6523141860961914, 0.5519704222679138, 0.6619137525558472, 1.8003226518630981, -0.4060251712799072, 0.8649080991744995, 0.4728880524635315, -0.6556308269500732, -1.158295750617981, 1.9621342420578003, -0.07805357873439789, 0.48139065504074097, 0.5600020885467529, -0.13993951678276062, -0.9839116930961609, -0.37045571208000183, 0.10801548510789871, -0.4236580729484558, 1.1755951642990112, 1.4235453605651855, 0.48638826608657837, -0.5501371026039124, 1.271414041519165, 0.5493054986000061, -0.18347249925136566, 0.6385344862937927, 0.20242704451084137, 0.8266066312789917, 0.4825175702571869, 0.16766907274723053, -0.9821595549583435, -1.5064144134521484, -1.2485295534133911, -1.0199344158172607, -0.30027323961257935, 0.5135021209716797, -0.42589515447616577, 1.963389277458191, 0.7372504472732544, 0.7437212467193604, -0.9512912631034851, -0.9833901524543762, 0.2372186779975891, -0.10029710829257965, 0.6380782127380371, 1.2444685697555542, -0.6212573647499084, 1.0687501430511475, 0.20304402709007263, -1.6953352689743042, -0.26762932538986206, -0.6247393488883972, -0.16322843730449677, -0.8709938526153564, -1.0568596124649048, -0.3524414002895355, -0.20131917297840118, -0.6131716370582581, -0.28761211037635803, 1.2514760494232178, -1.2690225839614868, -0.23637272417545319, 0.17630308866500854, -0.33823803067207336, -0.7481211423873901, -0.6790522336959839, 0.3060969114303589, -0.13788145780563354, -0.9616908431053162, 0.8216918110847473, -0.40523087978363037, 0.338227242231369, -0.445059210062027, 0.03385099768638611, 0.7224556803703308, 0.8937987685203552, -0.21388594806194305, -0.985633373260498, 0.5242100954055786, -0.4033556878566742, 0.03694424778223038, 0.027044374495744705, 1.3195024728775024, 0.8692035675048828, -0.6732053756713867, -1.021066665649414, -0.8555160760879517, -0.8216655254364014, -0.3882879316806793, 0.8495897054672241, 0.7822599411010742, -1.6860427856445312, -0.03594084456562996, 0.21886400878429413, -0.1634930521249771, 0.099713034927845, 0.7565486431121826, -0.6867887377738953, -0.290696918964386, -1.1673603057861328, -0.8701924085617065, 1.3364529609680176, -0.6645304560661316, 0.43485021591186523, -0.8714648485183716, -0.24960850179195404, -0.15329982340335846, -0.21070155501365662, 1.1642931699752808, 0.5971249341964722, -1.8497991561889648, -0.5235118865966797, 0.16449780762195587, 0.3640191853046417, -0.2552948594093323, 0.7232847213745117, -1.1393591165542603, -1.1163021326065063, 0.8505128622055054, -0.6138884425163269, -1.2312018871307373, -0.5450798869132996, 1.0753518342971802, 0.24247512221336365, 0.27409955859184265, -1.7690201997756958, 0.26929768919944763, 0.1467820405960083, 0.32361695170402527, 0.640496551990509, -1.4966272115707397, -1.105623722076416, -0.5701518654823303, -0.20711028575897217, -0.5728215575218201, -0.8787634372711182, -1.291661024093628, 1.1482971906661987, 0.1826818287372589, 0.5415099859237671, -0.24989941716194153, 0.2486802488565445, 0.6420639753341675, -1.088963508605957, -0.7958593368530273, 0.08087616413831711, 0.4792802929878235, -1.1129435300827026, -0.979915201663971, -0.26969870924949646, 0.3038610517978668, -1.0098998546600342, 0.11686491966247559, 1.2354613542556763, 0.2927446961402893, 0.1813076138496399, -0.3801132142543793, -0.07401583343744278, 0.8634090423583984, -1.1544960737228394, 0.7381051182746887, -0.011407171376049519, -0.1865074187517166, -0.32470157742500305, 0.1397051215171814, 0.8059611320495605, -0.6023172736167908, -0.9669525623321533, -0.6507242918014526, 0.8904889822006226, 0.9283455014228821, -1.0968716144561768, -0.7864776253700256, 0.1425575315952301, -0.40011298656463623, 1.542475938796997, 0.297363817691803, -0.45701268315315247, -1.7105547189712524, 0.08658020943403244, -0.8209137916564941, 0.12169498205184937, -0.6021453738212585, -0.12905113399028778, 0.8101106286048889, -0.24417638778686523, -1.0487905740737915, 0.2528446912765503, 0.9726687073707581, 0.19454921782016754, 0.5114722847938538, -0.04489484801888466, 0.55336993932724, -0.5664011836051941, -0.0622340552508831, 0.18977954983711243, 1.026529312133789, 0.9698376655578613, 1.3386949300765991, -0.7676647305488586, 0.8467593789100647, 0.3750295042991638, 0.392972856760025, -0.15226663649082184, 0.4463176429271698, -0.613760769367218, 0.043639130890369415, 0.3991931080818176, -0.08584485948085785, 0.49033644795417786, -1.201574444770813, -0.49756112694740295, -0.46189162135124207, 0.09754525870084763, -1.0239495038986206, 0.12856027483940125, -0.16708961129188538, -0.6588237285614014, 0.44616350531578064, -0.3888995945453644, -0.3266192078590393, 0.7293970584869385, 0.4125005900859833, -0.550215482711792, -0.41500821709632874, -0.7262079119682312, -0.009086212143301964, -0.7772626876831055, 0.8903623223304749, -0.5988280773162842, 0.781829297542572, 0.5922231674194336, -1.2031657695770264, 0.030117018148303032, 0.8428551554679871, -0.20929189026355743, -0.42314502596855164, 0.3960079848766327, 0.6100859642028809, -0.5520812273025513, 1.0731440782546997, 0.5011851787567139, 0.4750949740409851, 0.09824270009994507, -0.5401052236557007, 0.4690846800804138, -0.0698387622833252, -1.0718005895614624, 0.8707630634307861, -0.6448103785514832, -0.04119304195046425, 0.8866735696792603, -0.7233802080154419, -0.2132755070924759, -0.1505105346441269, 0.6535109877586365, -0.8423690795898438, 0.7208350896835327, 0.8952984809875488, 0.27418726682662964, -1.080393671989441, 0.48967480659484863, 0.19980455935001373, 0.2662474811077118, 0.9930473566055298, -1.7386914491653442, 0.7105912566184998, -0.12037748098373413, 1.2807531356811523, -0.7085822224617004, 1.063576102256775, 0.4928131699562073, 1.024007797241211, 0.7903030514717102, -0.05327650159597397, -0.10286547988653183, -0.9456576108932495, 0.02896910347044468, -0.8516654372215271, 0.12147052586078644, 1.1783883571624756, -0.7135423421859741, 1.426476240158081, 0.26477131247520447, -0.5569444298744202, 1.1209354400634766, 0.7553724050521851, -0.21033446490764618, -1.2881417274475098, 0.9635204076766968, 0.38240310549736023, -0.4051368832588196, 0.18406666815280914, 0.09193065017461777, 0.01053959596902132, 0.6879261136054993, -0.7004621624946594, 0.7388392090797424, -0.7003775238990784, 0.16362406313419342, -0.7080507874488831, -0.326492041349411, 0.05249043554067612, -0.5759912133216858, 0.7723520398139954, -1.2285236120224, 1.1579946279525757, -0.22079215943813324, 0.2405424863100052, 1.2126715183258057, -0.4577137231826782, 0.9452083706855774, 0.8930581212043762, -1.0343456268310547, 0.32395562529563904, 0.4002704918384552, -0.9831506609916687, 0.38646191358566284, 0.379567414522171, -0.04967091977596283, 1.236740231513977, -0.7662232518196106, -0.7698730826377869, 0.011109799146652222, -0.4938707649707794, 0.7327409982681274, -0.6313714981079102, 0.6453654170036316, 0.7626388072967529, 1.2328702211380005, -0.41567882895469666, -2.6024513244628906, 0.297394335269928, -0.742892861366272, -0.3440331518650055, 0.4858850836753845, 0.39659979939460754, 0.9521293044090271, -0.009392674081027508, 1.070144772529602, -1.2600226402282715, 0.34038245677948, -1.6229991912841797, 0.5002897381782532, 2.1005570888519287, -0.6317946910858154, -0.972805917263031, -1.0893447399139404, 1.8378593921661377, 0.2961515784263611, -0.8847873210906982, 0.3467108905315399, 0.34934836626052856, 1.0286961793899536, 1.686983346939087, -0.37162813544273376, -1.4271591901779175, -0.27327439188957214, -0.7881902456283569, -0.49497190117836, 0.5275498628616333, -0.8985549211502075, -1.4229687452316284, -0.6343509554862976, -0.47999250888824463, 0.7091690301895142, -0.04507681727409363, -0.5078050494194031, -1.3250529766082764, -0.4171390235424042, -0.6266507506370544, 1.0221977233886719, -1.0797734260559082, -0.12636247277259827, -0.5089900493621826, -0.3212404251098633, 0.6150197982788086, 0.9883634448051453, 0.6052185893058777, 0.5862075686454773, 0.06678051501512527, 0.08934755623340607, 0.87370765209198, -0.1945505440235138, -0.12106670439243317, -0.41009363532066345, 1.0382016897201538, 0.1751886010169983, -0.44811517000198364, 0.35759153962135315, 0.5616468787193298, 0.5506108403205872, -0.64803546667099, -0.1273534595966339, 0.3720947206020355, 1.4645940065383911, 0.2585424482822418, -1.3358709812164307, 0.20397451519966125, 1.3299211263656616, 3.02366042137146, 0.23042374849319458, -0.7988163828849792, -0.30103978514671326, -0.8831181526184082, -0.5916215777397156, 0.6414318084716797, 0.42626357078552246, 0.3379756510257721, 0.7062262296676636, -0.011438923887908459, 0.7930541634559631, 0.7889057993888855, -0.7978017926216125, 2.250713586807251, -0.7115685939788818, 1.0684932470321655, -0.7218313217163086, 0.29150351881980896, -0.8993655443191528, 0.11211995780467987, 1.5220657587051392, -0.19610172510147095, 0.21204529702663422, 0.36950862407684326, -0.65285724401474, -0.5534124970436096, 1.6184604167938232, -0.8183422088623047, -0.4979657828807831, 1.3643996715545654, 0.6726454496383667, 0.01988336630165577, 0.6939982771873474, 1.7444431781768799, -0.15745754539966583, 0.04529537633061409, -0.8353174924850464, -1.1005854606628418, 0.5869943499565125, 0.12602883577346802, 1.607725739479065, -0.019810974597930908, -0.12539222836494446, -0.42762720584869385, 0.6602373719215393, 0.553050696849823, 0.050779759883880615, 0.16884958744049072, 0.3490268886089325, 0.7675043344497681, -1.170474886894226, 0.39299505949020386, 0.2775082290172577, 0.34499505162239075, 0.3065246343612671, -0.35548120737075806, -0.2164749950170517, -0.2847684323787689, 0.21651345491409302, 0.1180129125714302, -0.23306973278522491, -1.5535454750061035, -0.29129305481910706, -0.49844279885292053, -0.48479586839675903, -0.0911121517419815, 1.157308578491211, 1.3206173181533813, 1.0696771144866943, -0.01684935949742794, 0.0005437977379187942, -0.8275504112243652, -0.987012505531311, 1.0005532503128052, 0.4188515543937683, -0.9107182621955872, 0.12650953233242035, -0.2522521913051605, -1.3395462036132812, 0.6284589767456055, -0.25128158926963806, -0.1191098615527153, -0.04662923514842987, 0.10111702233552933, -1.1032123565673828, 0.3839026093482971, -0.7992954254150391, 0.3606933057308197, 0.12586508691310883, -0.10484576225280762, -0.6104459762573242, 1.3768244981765747, 1.010648488998413, 1.489201307296753, -0.36213600635528564, 0.7042286396026611, -1.0572360754013062, -0.16262955963611603, 0.7829121947288513, 0.10884859412908554, -0.48417311906814575, 0.03604958951473236, -1.0442506074905396, 0.016346827149391174, 0.8530306220054626, -0.12302425503730774, -0.10197006911039352, -0.663827657699585, 1.5028918981552124, 0.3407094180583954, -1.0924127101898193, -1.3470797538757324, 0.11172094196081161, -0.8855537176132202, 0.6845411062240601, -0.1312008947134018, 0.35413745045661926, -0.4446597695350647, 0.5209773182868958, -1.1504966020584106, -0.08957161754369736, 0.7323150038719177, -0.3439493477344513, 0.2515580654144287, 0.37971124053001404, -1.971960186958313, -0.37019872665405273, -0.9687454104423523, -0.483429491519928, -0.864768922328949, 0.41589584946632385, -0.19962039589881897, -0.9570509791374207, 0.42089006304740906, 1.3539541959762573, -1.1481857299804688, 0.2749694585800171, 1.2578355073928833, 0.2129954993724823, -0.1782684475183487, 0.5689297914505005, 0.1400824934244156, 0.9306838512420654, -0.7640092372894287, -0.14973019063472748, -0.65931636095047, 0.2568317949771881, 0.03913046047091484, 0.021151093766093254, 0.04060864821076393, -0.1495983749628067, -1.0855512619018555, -0.025419149547815323, 0.6154168844223022, -0.0824570283293724, 0.1577976793050766, 1.118238091468811, -0.8471748232841492, -0.054221734404563904, -0.10785330086946487, 0.6873788237571716, 1.1670258045196533, -0.2492697685956955, -0.73387211561203, -0.5238320231437683, 0.019038667902350426, 0.2913931608200073, -0.019848860800266266, 1.193753719329834, -1.522630214691162, 0.17199759185314178, -0.89117830991745, -0.605452299118042, -1.504915475845337, 0.08296941220760345, -1.5551950931549072, 0.8735609650611877, 0.10360973328351974, 1.5352140665054321, 0.49474555253982544, -1.0670477151870728, -1.0419275760650635, 0.3383127748966217, 0.38585641980171204, 0.0498855896294117, 1.291007161140442, -1.1455990076065063, 0.5871795415878296, -0.17089690268039703, 0.3830859959125519, 0.6867488622665405, 0.038770824670791626, -0.5212448835372925, 1.0138475894927979, 1.2480114698410034, 0.10108326375484467, 0.032792478799819946, 1.696977138519287, -0.5781617760658264, 0.003359984140843153, 0.04572198912501335, 0.9261658787727356, 0.4849187433719635, 0.5928993821144104, 1.9557936191558838, 1.2835594415664673, 1.0217500925064087, 0.2803266644477844, -0.41675660014152527, 0.4312509596347809, 0.25836262106895447, -0.5270835161209106, -1.3704499006271362, 0.14417840540409088, 0.2392795830965042, -0.5197157859802246, -0.06072887033224106, -0.09060049802064896, 0.9266649484634399, -0.4500134289264679, 0.04521162807941437, 0.115001380443573, -0.04793612286448479, -0.0626315176486969, 0.6458730101585388, -0.5289019346237183, 1.476123571395874, 0.18847259879112244, -1.0334516763687134, 1.5157486200332642, 1.3995397090911865, 0.7220821976661682, 0.5197879076004028, -0.02447529509663582, 0.46830224990844727, -0.6800448894500732, -0.0749712735414505, -0.48062461614608765, -0.48268836736679077, -0.09479094296693802, 0.21248440444469452, 0.4598903954029083, -0.44920411705970764, -0.6580129861831665, -1.715593934059143, 0.1372586488723755, 0.005723187234252691, -0.4217139482498169, -0.12350305914878845, 0.6517159342765808, -0.4060361683368683, -0.4053334593772888, -1.0754649639129639, 0.07075908780097961, -0.3491198718547821, 0.484343022108078, -0.07520709186792374, -0.5932844877243042, -0.20674464106559753, -0.04232914745807648, -0.5914916396141052, -1.7290632724761963, 0.40346717834472656, -0.644925594329834, 0.6610119938850403, 1.3034976720809937, -0.909896969795227, 1.7012543678283691, 0.12186981737613678, 0.9960389137268066, 0.5114984512329102, -0.054628897458314896, 0.8877291679382324, -0.6511282920837402, 0.8104577660560608, -1.104798674583435, -2.099100112915039, -0.4646318554878235, -0.8686156272888184, 0.005170187447220087, 0.9201982617378235, -1.047461748123169, 0.910493016242981, -0.03176745027303696, 0.6542293429374695, -1.1249141693115234, -0.5207822322845459, -0.37272170186042786, 0.4688725173473358, 0.8757044672966003, 0.35719141364097595, 0.036122001707553864, -1.5815366506576538, -0.24063073098659515, -0.5159176588058472, 0.08206141740083694, -0.6469942331314087, 1.4692267179489136, -0.3483901023864746, -0.6791064143180847, -0.09805451333522797, 1.0664325952529907, -0.1755797117948532, 0.3742371201515198, 0.5960155725479126, -0.8305907845497131, -0.9644922614097595, -0.7489378452301025, 0.27467766404151917, 0.10945510119199753, -0.5727304220199585, 0.5557589530944824, 2.0342659950256348, 0.37563517689704895, 1.2286231517791748, 1.4505459070205688, -0.7425490021705627, -0.11508122086524963, -0.8988174200057983, -0.5173060894012451, -0.9908912777900696, -1.2691084146499634]\n"
     ]
    },
    {
     "data": {
      "text/plain": [
       "np.float64(0.432604400645278)"
      ]
     },
     "execution_count": 4,
     "metadata": {},
     "output_type": "execute_result"
    }
   ],
   "source": [
    "### Creating semantic embeddings using nomic via ollama model\n",
    "### Test cases ###\n",
    "\n",
    "response = ollama.embeddings(\n",
    "    model='nomic-embed-text',\n",
    "    prompt='facebook/react'\n",
    ")\n",
    "\n",
    "print(response['embedding'])  # This is your vector!\n",
    "\n",
    "response2 = ollama.embeddings(\n",
    "    model='nomic-embed-text',\n",
    "    prompt='vuejs/vue'\n",
    ")\n",
    "\n",
    "vec1: np.array = np.array(response['embedding'])\n",
    "vec2: np.array = np.array(response2['embedding'])\n",
    "vectors: np.array = np.array([vec1,vec2])\n",
    "\n",
    "cosine_similarity(response['embedding'], response2['embedding'])\n",
    "\n",
    "\n",
    "\n"
   ]
  },
  {
   "cell_type": "code",
   "execution_count": 22,
   "id": "2",
   "metadata": {},
   "outputs": [],
   "source": [
    "from pathlib import Path\n",
    "import csv\n",
    "import json\n",
    "import hashlib\n",
    "\n",
    "foss_proj_space_csv: Path = Path(\"../csv_github_data_cleaned/FOSS_projects_space.csv\")\n",
    "foss_name_description_json: Path = Path(\"../json_github_data_cleaned/github_repositories_final_ordered.json\")\n",
    "\n",
    "\n",
    "def create_data_object_and_store(json_file: str) -> None:\n",
    "\n",
    "    data_objects = []\n",
    "    with open(json_file,'r') as file:\n",
    "\n",
    "        # load the json data\n",
    "        data = json.load(file)\n",
    "\n",
    "        for project in data:\n",
    "            \n",
    "\n",
    "            ### get project name from json\n",
    "            project_name = project[\"FOSS project name\"]\n",
    "            print(\"processing \" + project_name + \"...\")\n",
    "\n",
    "            ### Hash project name\n",
    "            hash_object = hashlib.sha1(project_name.encode())\n",
    "            hashed_foss_name = hash_object.hexdigest()\n",
    "\n",
    "            ### Get project description from json\n",
    "            description = project[\"description\"]\n",
    "\n",
    "            ### Create combined string for vectorization\n",
    "            if not project_name:\n",
    "                print(f\"Skipping entry with missing name: {project}\")\n",
    "                continue\n",
    "\n",
    "            name_description = project_name + \" \" + (description or \"\")\n",
    "            \n",
    "            \n",
    "            # Create data object which will be used for Weaviate\n",
    "            data_object = {\n",
    "                \"name\": project_name,\n",
    "                \"description\": description,\n",
    "                \"foss_hash\": hashed_foss_name\n",
    "            }\n",
    "\n",
    "            ### Create vector represenations of the project names & the names + project descriptions\n",
    "            vectorized_name_description: list[float] = ollama_nomic_embed(name_description)\n",
    "            vectorized_name: list[float] = ollama_nomic_embed(project_name)\n",
    "            \n",
    "\n",
    "            data_objects.append((data_object, vectorized_name, vectorized_name_description))\n",
    "    print(\"#############################################\")\n",
    "    print(\"Starting to import the data into Weaviate!!!!\")\n",
    "    # Now batch import with error handling\n",
    "    with foss_wvc_collection.batch.dynamic() as batch:\n",
    "        for data_object, name_vector, combined_vector in data_objects:\n",
    "            batch.add_object(\n",
    "                properties=data_object,\n",
    "                vector={\n",
    "                \"name_vector\": name_vector,\n",
    "                \"combined_vector\": combined_vector\n",
    "                }\n",
    "            )\n",
    "            # Monitor errors during insertion\n",
    "            if batch.number_errors > 10:\n",
    "                print(\"Batch import stopped due to excessive errors.\")\n",
    "                break\n",
    "            \n",
    "\n",
    "    # Check for failed objects after batch completes\n",
    "    failed_objects = foss_wvc_collection.batch.failed_objects\n",
    "    if failed_objects:\n",
    "        print(f\"Number of failed imports: {len(failed_objects)}\")\n",
    "        for i, obj in enumerate(failed_objects[:5]):  # Print first 5 failures\n",
    "            print(f\"Failed object {i+1}: {obj}\")\n",
    "            \n",
    "    "
   ]
  },
  {
   "cell_type": "code",
   "execution_count": null,
   "id": "e5022aa1",
   "metadata": {},
   "outputs": [],
   "source": [
    "### Runnit \n",
    "#create_data_object_and_store(foss_name_description_json)"
   ]
  },
  {
   "cell_type": "code",
   "execution_count": 5,
   "id": "d8c70a47",
   "metadata": {},
   "outputs": [
    {
     "name": "stdout",
     "output_type": "stream",
     "text": [
      "freebsd freebsd-src\n",
      "Distance: 0.240\n",
      "Certainty: 0.880\n",
      "############\n",
      "FreeCAD FreeCAD\n",
      "Distance: 0.276\n",
      "Certainty: 0.862\n",
      "############\n",
      "Freeboard freeboard\n",
      "Distance: 0.338\n",
      "Certainty: 0.831\n",
      "############\n",
      "lTbgykio Books-Free-Books\n",
      "Distance: 0.344\n",
      "Certainty: 0.828\n",
      "############\n",
      "FreeRDP FreeRDP\n",
      "Distance: 0.350\n",
      "Certainty: 0.825\n",
      "############\n",
      "EbookFoundation free-programming-books\n",
      "Distance: 0.362\n",
      "Certainty: 0.819\n",
      "############\n",
      "freefq free\n",
      "Distance: 0.364\n",
      "Certainty: 0.818\n",
      "############\n",
      "Pawdroid Free-servers\n",
      "Distance: 0.376\n",
      "Certainty: 0.812\n",
      "############\n",
      "ARMmbed mbed-os\n",
      "Distance: 0.379\n",
      "Certainty: 0.811\n",
      "############\n",
      "justjavac free-programming-books-zh_CN\n",
      "Distance: 0.386\n",
      "Certainty: 0.807\n",
      "############\n"
     ]
    }
   ],
   "source": [
    "from weaviate.classes.query import MetadataQuery\n",
    "### Test Queries ###\n",
    "\n",
    "query_string = \"freebsd:freebsd\"\n",
    "vector_query = ollama_nomic_embed(query_string)\n",
    "\n",
    "### Get the collection ###\n",
    "FOSS_COLLECTION = client.collections.get(\"FOSSProject\")\n",
    "\n",
    "### Get the response ###\n",
    "response = FOSS_COLLECTION.query.near_vector(\n",
    "    near_vector=vector_query,\n",
    "    target_vector=\"name_vector\",\n",
    "    return_metadata=MetadataQuery(distance=True,certainty=True)\n",
    "    # distance=\n",
    "    # certainty\n",
    ")\n",
    "\n",
    "for o in response.objects:\n",
    "    print(o.properties['name'])\n",
    "    print(f\"Distance: {o.metadata.distance:.3f}\")\n",
    "    print(f\"Certainty: {o.metadata.certainty:.3f}\")\n",
    "    print(\"############\")"
   ]
  },
  {
   "cell_type": "code",
   "execution_count": 13,
   "id": "05ff9fd2",
   "metadata": {},
   "outputs": [
    {
     "name": "stdout",
     "output_type": "stream",
     "text": [
      "MetadataReturn(creation_time=None, last_update_time=None, distance=0.24045562744140625, certainty=0.8797721862792969, score=None, explain_score=None, is_consistent=None, rerank_score=None)\n",
      "MetadataReturn(creation_time=None, last_update_time=None, distance=0.2764824628829956, certainty=0.8617587685585022, score=None, explain_score=None, is_consistent=None, rerank_score=None)\n",
      "MetadataReturn(creation_time=None, last_update_time=None, distance=0.3378521203994751, certainty=0.8310739398002625, score=None, explain_score=None, is_consistent=None, rerank_score=None)\n",
      "MetadataReturn(creation_time=None, last_update_time=None, distance=0.3442188501358032, certainty=0.8278905749320984, score=None, explain_score=None, is_consistent=None, rerank_score=None)\n",
      "MetadataReturn(creation_time=None, last_update_time=None, distance=0.3495115041732788, certainty=0.8252442479133606, score=None, explain_score=None, is_consistent=None, rerank_score=None)\n",
      "MetadataReturn(creation_time=None, last_update_time=None, distance=0.36234962940216064, certainty=0.8188251852989197, score=None, explain_score=None, is_consistent=None, rerank_score=None)\n",
      "MetadataReturn(creation_time=None, last_update_time=None, distance=0.3636343479156494, certainty=0.8181828260421753, score=None, explain_score=None, is_consistent=None, rerank_score=None)\n",
      "MetadataReturn(creation_time=None, last_update_time=None, distance=0.37585073709487915, certainty=0.8120746612548828, score=None, explain_score=None, is_consistent=None, rerank_score=None)\n",
      "MetadataReturn(creation_time=None, last_update_time=None, distance=0.37886911630630493, certainty=0.8105654716491699, score=None, explain_score=None, is_consistent=None, rerank_score=None)\n",
      "MetadataReturn(creation_time=None, last_update_time=None, distance=0.38604241609573364, certainty=0.8069788217544556, score=None, explain_score=None, is_consistent=None, rerank_score=None)\n"
     ]
    }
   ],
   "source": [
    "for o in response.objects:\n",
    "    print(o.metadata)\n",
    "  "
   ]
  },
  {
   "cell_type": "code",
   "execution_count": 11,
   "id": "34f64da8",
   "metadata": {},
   "outputs": [
    {
     "name": "stdout",
     "output_type": "stream",
     "text": [
      "EbookFoundation free-programming-books\n",
      "Distance: 0.311\n",
      "Certainty: 0.844\n",
      "############\n",
      "freebsd freebsd-src\n",
      "Distance: 0.322\n",
      "Certainty: 0.839\n",
      "############\n",
      "openzfs zfs\n",
      "Distance: 0.360\n",
      "Certainty: 0.820\n",
      "############\n",
      "auctors free-lunch\n",
      "Distance: 0.369\n",
      "Certainty: 0.816\n",
      "############\n",
      "FreeRTOS FreeRTOS\n",
      "Distance: 0.375\n",
      "Certainty: 0.812\n",
      "############\n",
      "FreeCAD FreeCAD\n",
      "Distance: 0.378\n",
      "Certainty: 0.811\n",
      "############\n",
      "BlackrockDigital startbootstrap\n",
      "Distance: 0.378\n",
      "Certainty: 0.811\n",
      "############\n",
      "OpenMathLib OpenBLAS\n",
      "Distance: 0.382\n",
      "Certainty: 0.809\n",
      "############\n",
      "justjavac free-programming-books-zh_CN\n",
      "Distance: 0.389\n",
      "Certainty: 0.805\n",
      "############\n",
      "Freeboard freeboard\n",
      "Distance: 0.391\n",
      "Certainty: 0.804\n",
      "############\n"
     ]
    }
   ],
   "source": [
    "### Get the response ###\n",
    "response = FOSS_COLLECTION.query.near_vector(\n",
    "    near_vector=vector_query,\n",
    "    target_vector=\"combined_vector\",\n",
    "    return_metadata=MetadataQuery(distance=True,certainty=True)\n",
    "    # distance=\n",
    "    # certainty\n",
    ")\n",
    "\n",
    "for o in response.objects:\n",
    "    print(o.properties['name'])\n",
    "    print(f\"Distance: {o.metadata.distance:.3f}\")\n",
    "    print(f\"Certainty: {o.metadata.certainty:.3f}\")\n",
    "    print(\"############\")"
   ]
  },
  {
   "cell_type": "code",
   "execution_count": 6,
   "id": "310f6ec8",
   "metadata": {},
   "outputs": [],
   "source": [
    "### Close the connection to the weaviate database\n",
    "client.close()"
   ]
  },
  {
   "cell_type": "code",
   "execution_count": null,
   "id": "90df019c",
   "metadata": {},
   "outputs": [
    {
     "name": "stdout",
     "output_type": "stream",
     "text": [
      "True\n"
     ]
    }
   ],
   "source": [
    "import weaviate\n",
    "\n",
    "client = weaviate.connect_to_local()\n",
    "\n",
    "print(client.is_ready())  # Should print: `True`\n",
    "\n",
    "client.close()  # Free up resources"
   ]
  }
 ],
 "metadata": {
  "kernelspec": {
   "display_name": "pydriller_env",
   "language": "python",
   "name": "python3"
  },
  "language_info": {
   "codemirror_mode": {
    "name": "ipython",
    "version": 3
   },
   "file_extension": ".py",
   "mimetype": "text/x-python",
   "name": "python",
   "nbconvert_exporter": "python",
   "pygments_lexer": "ipython3",
   "version": "3.13.1"
  }
 },
 "nbformat": 4,
 "nbformat_minor": 5
}
