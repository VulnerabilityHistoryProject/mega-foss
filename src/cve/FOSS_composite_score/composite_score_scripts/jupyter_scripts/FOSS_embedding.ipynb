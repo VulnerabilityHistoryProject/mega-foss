{
 "cells": [
  {
   "cell_type": "code",
   "execution_count": null,
   "id": "0",
   "metadata": {},
   "outputs": [
    {
     "name": "stderr",
     "output_type": "stream",
     "text": [
      "/home/culmination/miniconda3/envs/pydriller_env/lib/python3.13/site-packages/tqdm/auto.py:21: TqdmWarning: IProgress not found. Please update jupyter and ipywidgets. See https://ipywidgets.readthedocs.io/en/stable/user_install.html\n",
      "  from .autonotebook import tqdm as notebook_tqdm\n"
     ]
    },
    {
     "ename": "ModuleNotFoundError",
     "evalue": "No module named 'matplotlib'",
     "output_type": "error",
     "traceback": [
      "\u001b[0;31m---------------------------------------------------------------------------\u001b[0m",
      "\u001b[0;31mModuleNotFoundError\u001b[0m                       Traceback (most recent call last)",
      "Cell \u001b[0;32mIn[1], line 6\u001b[0m\n\u001b[1;32m      4\u001b[0m \u001b[38;5;28;01mimport\u001b[39;00m\u001b[38;5;250m \u001b[39m\u001b[38;5;21;01mnumpy\u001b[39;00m\u001b[38;5;250m \u001b[39m\u001b[38;5;28;01mas\u001b[39;00m\u001b[38;5;250m \u001b[39m\u001b[38;5;21;01mnp\u001b[39;00m\n\u001b[1;32m      5\u001b[0m \u001b[38;5;28;01mfrom\u001b[39;00m\u001b[38;5;250m \u001b[39m\u001b[38;5;21;01msklearn\u001b[39;00m\u001b[38;5;21;01m.\u001b[39;00m\u001b[38;5;21;01mdecomposition\u001b[39;00m\u001b[38;5;250m \u001b[39m\u001b[38;5;28;01mimport\u001b[39;00m PCA\n\u001b[0;32m----> 6\u001b[0m \u001b[38;5;28;01mimport\u001b[39;00m\u001b[38;5;250m \u001b[39m\u001b[38;5;21;01mmatplotlib\u001b[39;00m\u001b[38;5;21;01m.\u001b[39;00m\u001b[38;5;21;01mpyplot\u001b[39;00m\u001b[38;5;250m \u001b[39m\u001b[38;5;28;01mas\u001b[39;00m\u001b[38;5;250m \u001b[39m\u001b[38;5;21;01mplt\u001b[39;00m\n\u001b[1;32m      7\u001b[0m \u001b[38;5;28;01mfrom\u001b[39;00m\u001b[38;5;250m \u001b[39m\u001b[38;5;21;01mtyping\u001b[39;00m\u001b[38;5;250m \u001b[39m\u001b[38;5;28;01mimport\u001b[39;00m Optional, List\n\u001b[1;32m      9\u001b[0m OLLAMA_NOMIC_MODEL \u001b[38;5;241m=\u001b[39m \u001b[38;5;124m'\u001b[39m\u001b[38;5;124mnomic-embed-text\u001b[39m\u001b[38;5;124m'\u001b[39m\n",
      "\u001b[0;31mModuleNotFoundError\u001b[0m: No module named 'matplotlib'"
     ]
    }
   ],
   "source": [
    "import ollama\n",
    "from nomic import embed\n",
    "import sentence_transformers as SBERT\n",
    "import numpy as np\n",
    "from sklearn.decomposition import PCA\n",
    "import matplotlib.pyplot as plt\n",
    "from typing import Optional, List\n",
    "\n",
    "OLLAMA_NOMIC_MODEL = 'nomic-embed-text'\n",
    "\n",
    "def cosine_similarity(vec1: list[float], vec2: list[float]):\n",
    "    \"\"\"Compute cosine similarity between two vectors.\"\"\"\n",
    "    vec1 = np.array(vec1)\n",
    "    vec2 = np.array(vec2)\n",
    "    return np.dot(vec1, vec2) / (np.linalg.norm(vec1) * np.linalg.norm(vec2))\n",
    "\n",
    "def ollama_nomic_embed(prompt: str) -> list[float]:\n",
    "\n",
    "    response = ollama.embeddings(\n",
    "        model=OLLAMA_NOMIC_MODEL,\n",
    "        prompt=prompt\n",
    "    )\n",
    "\n",
    "    return response['embedding']\n",
    "\n",
    "\n",
    "\n",
    "def reduce_and_plot(vectors: np.ndarray, labels: Optional[List[str]] = None, title: str = '2D Embedding Projection') -> None:\n",
    "    \"\"\"Reduce to 2D using PCA and plot.\"\"\"\n",
    "    pca = PCA(n_components=2)\n",
    "    reduced = pca.fit_transform(vectors)\n",
    "    \n",
    "    plt.figure(figsize=(8,6))\n",
    "    plt.scatter(reduced[:,0], reduced[:,1], c='skyblue', s=60)\n",
    "    \n",
    "    if labels:\n",
    "        for i, label in enumerate(labels):\n",
    "            plt.text(reduced[i,0], reduced[i,1], label, fontsize=9)\n",
    "\n",
    "    plt.title(title)\n",
    "    plt.xlabel('PCA1')\n",
    "    plt.ylabel('PCA2')\n",
    "    plt.grid(True)\n",
    "    plt.show()\n",
    "\n"
   ]
  },
  {
   "cell_type": "code",
   "execution_count": null,
   "id": "1",
   "metadata": {},
   "outputs": [],
   "source": [
    "### Creating semantic embeddings using nomic via ollama model\n",
    "### Test cases ###\n",
    "\n",
    "response = ollama.embeddings(\n",
    "    model='nomic-embed-text',\n",
    "    prompt='facebook/react'\n",
    ")\n",
    "\n",
    "print(response['embedding'])  # This is your vector!\n",
    "\n",
    "response2 = ollama.embeddings(\n",
    "    model='nomic-embed-text',\n",
    "    prompt='vuejs/vue'\n",
    ")\n",
    "\n",
    "vec1: np.array = np.array(response['embedding'])\n",
    "vec2: np.array = np.array(response2['embedding'])\n",
    "vectors: np.array = np.array([vec1,vec2])\n",
    "\n",
    "cosine_similarity(response['embedding'], response2['embedding'])\n",
    "\n",
    "\n",
    "\n"
   ]
  },
  {
   "cell_type": "code",
   "execution_count": null,
   "id": "2",
   "metadata": {},
   "outputs": [],
   "source": [
    "from pathlib import Path\n",
    "import csv\n",
    "\n",
    "foss_proj_space_csv: Path = Path(\"../csv_github_data/FOSS_projects_space.csv\")\n",
    "\n",
    "\n",
    "\n",
    "def vectorize_foss_names(csv_data_file: Path, embed_model: str = 'ollama') -> list[list[str]]:\n",
    "    foss_name_vectors: list[list[str]] = []\n",
    "    with open(csv_data_file, mode=\"r\",newline='') as file:\n",
    "\n",
    "        reader = csv.reader(file)\n",
    "\n",
    "        for row in reader:\n",
    "            print(row[0])\n",
    "            vectorized_name: list[float] = ollama_nomic_embed(row[0]) ### row[0] is jsut the first entry without the brackets\n",
    "\n",
    "            foss_name_vectors.append(vectorized_name)\n",
    "    return foss_name_vectors\n",
    "\n",
    "foss_name_vectors_space: list[list[str]] = vectorize_foss_names(foss_proj_space_csv)"
   ]
  },
  {
   "cell_type": "code",
   "execution_count": null,
   "id": "6705edc9",
   "metadata": {},
   "outputs": [],
   "source": [
    "### Below is the schema that I'm going to use for my data in the vector database\n",
    "### I'm including the fields of the metadata that I want\n",
    "\n",
    "# Embedding 1: Foss project name (with space)\n",
    "\n",
    "'''\n",
    "Foss project name (with a space)\n",
    "UID: aka hash of project name (with a space)\n",
    "foss project description\n",
    "\n",
    "\n",
    "'''\n",
    "\n",
    "# Embed 2: Foss project name (with space) + foss project description"
   ]
  }
 ],
 "metadata": {
  "kernelspec": {
   "display_name": "pydriller_env",
   "language": "python",
   "name": "python3"
  },
  "language_info": {
   "codemirror_mode": {
    "name": "ipython",
    "version": 3
   },
   "file_extension": ".py",
   "mimetype": "text/x-python",
   "name": "python",
   "nbconvert_exporter": "python",
   "pygments_lexer": "ipython3",
   "version": "3.13.1"
  }
 },
 "nbformat": 4,
 "nbformat_minor": 5
}
