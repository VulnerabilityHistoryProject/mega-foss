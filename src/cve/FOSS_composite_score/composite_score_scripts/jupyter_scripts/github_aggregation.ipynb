{
 "cells": [
  {
   "cell_type": "code",
   "execution_count": 6,
   "metadata": {},
   "outputs": [
    {
     "name": "stdout",
     "output_type": "stream",
     "text": [
      "                     FOSS project name  \\\n",
      "0  mtdvio/every-programmer-should-know   \n",
      "1                storybookjs/storybook   \n",
      "2                       facebook/react   \n",
      "3     yangshun/tech-interview-handbook   \n",
      "4                       996icu/996.ICU   \n",
      "\n",
      "                                         description   stars  forks  issues  \\\n",
      "0  A collection of (mostly) technical things ever...   86902   7993      51   \n",
      "1  Storybook is the industry standard workshop fo...   86413   9506   13326   \n",
      "2    The library for web and native user interfaces.  234684  48289   13649   \n",
      "3  💯 Curated coding interview preparation materia...  125380  15308     112   \n",
      "4  Repo for counting stars and contributing. Pres...  270529  21096       0   \n",
      "\n",
      "   watchers         last_ updated  \n",
      "0      1981  2025-04-18T18:12:16Z  \n",
      "1       934  2025-04-18T21:47:02Z  \n",
      "2      6736  2025-04-18T21:51:32Z  \n",
      "3      2162  2025-04-18T21:48:19Z  \n",
      "4      4185  2025-04-18T20:54:44Z  \n"
     ]
    }
   ],
   "source": [
    "from pathlib import Path\n",
    "import pandas as pd\n",
    "\n",
    "\n",
    "github_csv: Path = Path(\"../csv_github_data/github_repositories_final.csv\")\n",
    "\n",
    "github_df = pd.read_csv(github_csv)\n",
    "\n",
    "\n",
    "print(github_df.head())"
   ]
  },
  {
   "cell_type": "code",
   "execution_count": 14,
   "metadata": {},
   "outputs": [
    {
     "name": "stdout",
     "output_type": "stream",
     "text": [
      "                  FOSS project name  \\\n",
      "0         freeCodeCamp/freeCodeCamp   \n",
      "1         freeCodeCamp/freeCodeCamp   \n",
      "2  codecrafters-io/build-your-own-x   \n",
      "3  codecrafters-io/build-your-own-x   \n",
      "4              sindresorhus/awesome   \n",
      "\n",
      "                                         description   stars  forks  issues  \\\n",
      "0  freeCodeCamp.org's open-source codebase and cu...  416695  39837   19196   \n",
      "1  freeCodeCamp.org's open-source codebase and cu...  416692  39837     181   \n",
      "2  Master programming by recreating your favorite...  372800  34681     760   \n",
      "3  Master programming by recreating your favorite...  372789  34679     204   \n",
      "4  😎 Awesome lists about all kinds of interesting...  356557  28918     350   \n",
      "\n",
      "   watchers         last_ updated  \n",
      "0      8566  2025-04-18T21:56:29Z  \n",
      "1      8566  2025-04-18T20:27:03Z  \n",
      "2      5967  2025-04-18T22:00:57Z  \n",
      "3      5967  2025-04-18T20:32:12Z  \n",
      "4      7839  2025-04-18T21:59:57Z  \n"
     ]
    }
   ],
   "source": [
    "github_df = github_df.sort_values(by=['stars', 'forks', 'issues', 'watchers'], ascending=False).reset_index(drop=True)\n",
    "\n",
    "print(github_df.head())"
   ]
  },
  {
   "cell_type": "code",
   "execution_count": 20,
   "metadata": {},
   "outputs": [
    {
     "name": "stdout",
     "output_type": "stream",
     "text": [
      "Before: 12670\n",
      "After: 12670\n",
      "                        FOSS project name  \\\n",
      "0               freeCodeCamp/freeCodeCamp   \n",
      "1        codecrafters-io/build-your-own-x   \n",
      "2                    sindresorhus/awesome   \n",
      "3  EbookFoundation/free-programming-books   \n",
      "4                 public-apis/public-apis   \n",
      "\n",
      "                                         description   stars  forks  issues  \\\n",
      "0  freeCodeCamp.org's open-source codebase and cu...  416695  39837   19196   \n",
      "1  Master programming by recreating your favorite...  372800  34681     760   \n",
      "2  😎 Awesome lists about all kinds of interesting...  356557  28918     350   \n",
      "3         :books: Freely available programming books  355123  63183    1169   \n",
      "4                     A collective list of free APIs  335916  35541     676   \n",
      "\n",
      "   watchers         last_ updated  \n",
      "0      8566  2025-04-18T21:56:29Z  \n",
      "1      5967  2025-04-18T22:00:57Z  \n",
      "2      7839  2025-04-18T21:59:57Z  \n",
      "3      9844  2025-04-18T21:55:03Z  \n",
      "4      4269  2025-04-18T21:58:14Z  \n",
      "                  FOSS project name  \\\n",
      "12665                  google/sling   \n",
      "12666                   google/marl   \n",
      "12667  kijai/ComfyUI-LivePortraitKJ   \n",
      "12668   km1994/LLMs_interview_notes   \n",
      "12669                  nbubna/store   \n",
      "\n",
      "                                             description  stars  forks  \\\n",
      "12665  SLING - A natural language frame semantics parser   1931    266   \n",
      "12666  A hybrid thread / fiber task scheduler written...   1931    194   \n",
      "12667                     ComfyUI nodes for LivePortrait   1931    154   \n",
      "12668                      该仓库主要记录 大模型（LLMs） 算法工程师相关的面试题   1931    137   \n",
      "12669  A better way to use localStorage and sessionSt...   1931    114   \n",
      "\n",
      "       issues  watchers         last_ updated  \n",
      "12665     107       110  2025-04-17T23:42:40Z  \n",
      "12666      72        53  2025-04-17T15:37:33Z  \n",
      "12667     146        20  2025-04-18T06:09:03Z  \n",
      "12668       1        10  2025-04-18T12:13:31Z  \n",
      "12669      81        55  2025-04-12T14:43:42Z  \n"
     ]
    }
   ],
   "source": [
    "print(\"Before:\", len(github_df))\n",
    "github_df = github_df.drop_duplicates(subset=['FOSS project name'])\n",
    "print(\"After:\", len(github_df))\n",
    "\n",
    "github_df = github_df.reset_index(drop=True)\n",
    "print(github_df.head())\n",
    "print(github_df.tail())\n"
   ]
  },
  {
   "cell_type": "code",
   "execution_count": null,
   "metadata": {},
   "outputs": [],
   "source": [
    "### Writing all columns to their own csvs ###\n",
    "github_df[['FOSS project name']].to_csv('FOSS_projects_slash.csv', index=False,header=False)"
   ]
  },
  {
   "cell_type": "code",
   "execution_count": 29,
   "metadata": {},
   "outputs": [],
   "source": [
    "github_df['name_clean'] = github_df['FOSS project name'].str.replace('/', ' ')  # Replace with space\n",
    "github_df['name_clean'].to_csv('FOSS_projects_space.csv', index=False, header=False)\n"
   ]
  },
  {
   "cell_type": "code",
   "execution_count": 25,
   "metadata": {},
   "outputs": [],
   "source": [
    "github_df['name_clean'] = github_df['FOSS project name'].str.replace('/', '_')  # Replace with space\n",
    "github_df['name_clean'].to_csv('FOSS_projects_underscore.csv', index=False, header=False)\n"
   ]
  },
  {
   "cell_type": "code",
   "execution_count": 26,
   "metadata": {},
   "outputs": [],
   "source": [
    "github_df['name_clean'] = github_df['FOSS project name'].str.replace('/', ':')  # Replace with space\n",
    "github_df['name_clean'].to_csv('FOSS_projects_colon.csv', index=False, header=False)\n"
   ]
  },
  {
   "cell_type": "code",
   "execution_count": 28,
   "metadata": {},
   "outputs": [],
   "source": [
    "github_df['name_clean'] = github_df['FOSS project name'].str.replace('/', '-')  # Replace with space\n",
    "github_df['name_clean'].to_csv('FOSS_projects_dash.csv', index=False, header=False)\n"
   ]
  }
 ],
 "metadata": {
  "kernelspec": {
   "display_name": "pydriller_env",
   "language": "python",
   "name": "python3"
  },
  "language_info": {
   "codemirror_mode": {
    "name": "ipython",
    "version": 3
   },
   "file_extension": ".py",
   "mimetype": "text/x-python",
   "name": "python",
   "nbconvert_exporter": "python",
   "pygments_lexer": "ipython3",
   "version": "3.13.1"
  }
 },
 "nbformat": 4,
 "nbformat_minor": 2
}
