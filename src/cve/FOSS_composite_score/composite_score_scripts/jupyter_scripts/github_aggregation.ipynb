{
 "cells": [
  {
   "cell_type": "code",
   "execution_count": 6,
   "metadata": {},
   "outputs": [
    {
     "name": "stdout",
     "output_type": "stream",
     "text": [
      "                     FOSS project name  \\\n",
      "0  mtdvio/every-programmer-should-know   \n",
      "1                storybookjs/storybook   \n",
      "2                       facebook/react   \n",
      "3     yangshun/tech-interview-handbook   \n",
      "4                       996icu/996.ICU   \n",
      "\n",
      "                                         description   stars  forks  issues  \\\n",
      "0  A collection of (mostly) technical things ever...   86902   7993      51   \n",
      "1  Storybook is the industry standard workshop fo...   86413   9506   13326   \n",
      "2    The library for web and native user interfaces.  234684  48289   13649   \n",
      "3  💯 Curated coding interview preparation materia...  125380  15308     112   \n",
      "4  Repo for counting stars and contributing. Pres...  270529  21096       0   \n",
      "\n",
      "   watchers         last_ updated  \n",
      "0      1981  2025-04-18T18:12:16Z  \n",
      "1       934  2025-04-18T21:47:02Z  \n",
      "2      6736  2025-04-18T21:51:32Z  \n",
      "3      2162  2025-04-18T21:48:19Z  \n",
      "4      4185  2025-04-18T20:54:44Z  \n"
     ]
    }
   ],
   "source": [
    "from pathlib import Path\n",
    "import pandas as pd\n",
    "\n",
    "\n",
    "github_csv: Path = Path(\"../csv_github_data/github_repositories_final.csv\")\n",
    "\n",
    "github_df = pd.read_csv(github_csv)\n",
    "\n",
    "\n",
    "print(github_df.head())"
   ]
  }
 ],
 "metadata": {
  "kernelspec": {
   "display_name": "pydriller_env",
   "language": "python",
   "name": "python3"
  },
  "language_info": {
   "codemirror_mode": {
    "name": "ipython",
    "version": 3
   },
   "file_extension": ".py",
   "mimetype": "text/x-python",
   "name": "python",
   "nbconvert_exporter": "python",
   "pygments_lexer": "ipython3",
   "version": "3.13.1"
  }
 },
 "nbformat": 4,
 "nbformat_minor": 2
}
