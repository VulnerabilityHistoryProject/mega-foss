{
 "cells": [
  {
   "cell_type": "code",
   "execution_count": 6,
   "metadata": {},
   "outputs": [
    {
     "name": "stdout",
     "output_type": "stream",
     "text": [
      "                     FOSS project name  \\\n",
      "0  mtdvio/every-programmer-should-know   \n",
      "1                storybookjs/storybook   \n",
      "2                       facebook/react   \n",
      "3     yangshun/tech-interview-handbook   \n",
      "4                       996icu/996.ICU   \n",
      "\n",
      "                                         description   stars  forks  issues  \\\n",
      "0  A collection of (mostly) technical things ever...   86902   7993      51   \n",
      "1  Storybook is the industry standard workshop fo...   86413   9506   13326   \n",
      "2    The library for web and native user interfaces.  234684  48289   13649   \n",
      "3  💯 Curated coding interview preparation materia...  125380  15308     112   \n",
      "4  Repo for counting stars and contributing. Pres...  270529  21096       0   \n",
      "\n",
      "   watchers         last_ updated  \n",
      "0      1981  2025-04-18T18:12:16Z  \n",
      "1       934  2025-04-18T21:47:02Z  \n",
      "2      6736  2025-04-18T21:51:32Z  \n",
      "3      2162  2025-04-18T21:48:19Z  \n",
      "4      4185  2025-04-18T20:54:44Z  \n"
     ]
    }
   ],
   "source": [
    "from pathlib import Path\n",
    "import pandas as pd\n",
    "\n",
    "\n",
    "github_csv: Path = Path(\"../csv_github_data/github_repositories_final.csv\")\n",
    "\n",
    "github_df = pd.read_csv(github_csv)\n",
    "\n",
    "\n",
    "print(github_df.head())"
   ]
  },
  {
   "cell_type": "code",
   "execution_count": 14,
   "metadata": {},
   "outputs": [
    {
     "name": "stdout",
     "output_type": "stream",
     "text": [
      "                  FOSS project name  \\\n",
      "0         freeCodeCamp/freeCodeCamp   \n",
      "1         freeCodeCamp/freeCodeCamp   \n",
      "2  codecrafters-io/build-your-own-x   \n",
      "3  codecrafters-io/build-your-own-x   \n",
      "4              sindresorhus/awesome   \n",
      "\n",
      "                                         description   stars  forks  issues  \\\n",
      "0  freeCodeCamp.org's open-source codebase and cu...  416695  39837   19196   \n",
      "1  freeCodeCamp.org's open-source codebase and cu...  416692  39837     181   \n",
      "2  Master programming by recreating your favorite...  372800  34681     760   \n",
      "3  Master programming by recreating your favorite...  372789  34679     204   \n",
      "4  😎 Awesome lists about all kinds of interesting...  356557  28918     350   \n",
      "\n",
      "   watchers         last_ updated  \n",
      "0      8566  2025-04-18T21:56:29Z  \n",
      "1      8566  2025-04-18T20:27:03Z  \n",
      "2      5967  2025-04-18T22:00:57Z  \n",
      "3      5967  2025-04-18T20:32:12Z  \n",
      "4      7839  2025-04-18T21:59:57Z  \n"
     ]
    }
   ],
   "source": [
    "github_df = github_df.sort_values(by=['stars', 'forks', 'issues', 'watchers'], ascending=False).reset_index(drop=True)\n",
    "\n",
    "print(github_df.head())"
   ]
  },
  {
   "cell_type": "code",
   "execution_count": 17,
   "metadata": {},
   "outputs": [
    {
     "name": "stdout",
     "output_type": "stream",
     "text": [
      "Before: 13670\n",
      "After: 12670\n"
     ]
    }
   ],
   "source": [
    "print(\"Before:\", len(github_df))\n",
    "github_df = github_df.drop_duplicates(subset=['FOSS project name'])\n",
    "print(\"After:\", len(github_df))\n"
   ]
  }
 ],
 "metadata": {
  "kernelspec": {
   "display_name": "pydriller_env",
   "language": "python",
   "name": "python3"
  },
  "language_info": {
   "codemirror_mode": {
    "name": "ipython",
    "version": 3
   },
   "file_extension": ".py",
   "mimetype": "text/x-python",
   "name": "python",
   "nbconvert_exporter": "python",
   "pygments_lexer": "ipython3",
   "version": "3.13.1"
  }
 },
 "nbformat": 4,
 "nbformat_minor": 2
}
