{
 "cells": [
  {
   "cell_type": "markdown",
   "id": "8d6ac1cd",
   "metadata": {},
   "source": [
    "### This file querries all 300K-ish CVE entires in the NVD and store the top 3 matches into mongo."
   ]
  },
  {
   "cell_type": "code",
   "execution_count": null,
   "id": "51650aa9",
   "metadata": {},
   "outputs": [],
   "source": [
    "### Include all necessary imports ###\n",
    "\n",
    "import sys\n",
    "from pathlib import Path\n",
    "from pymongo import MongoClient\n",
    "\n",
    "\n",
    "### Get the correct directory resolved for imports ###\n",
    "project_root = Path().resolve()\n",
    "while not (project_root / 'embedding_pipeline').exists() and project_root != project_root.parent:\n",
    "    project_root = project_root.parent\n",
    "\n",
    "sys.path.append(str(project_root))\n",
    "\n",
    "from embedding_pipeline.weaviate_db.weaviate_config import connect_to_local_weaviate_client\n",
    "from embedding_pipeline.weaviate_db.weaviate_config import verify_weaviate_client_ready\n",
    "from embedding_pipeline.weaviate_db.weaviate_config import close_weaviate_client\n",
    "from embedding_pipeline.weaviate_db.weaviate_config import list_weaviate_collections, inspect_collection_properties, retrieve_existing_weaviate_collection\n",
    "\n",
    "\n",
    "\n"
   ]
  },
  {
   "cell_type": "code",
   "execution_count": null,
   "id": "2cafb7d1",
   "metadata": {},
   "outputs": [],
   "source": [
    "### Connect to local weavite client ###\n",
    "local_client = connect_to_local_weaviate_client()\n",
    "list_weaviate_collections(local_client)\n",
    "\n",
    "### Get the local weavite collection name ###\n",
    "WEAVIATE_COLL_NAME = \"FOSS_vectors\"\n",
    "\n",
    "\n",
    "### Connect to MongoDB clinet ###\n",
    "\n",
    "uri = \"mongodb://localhost:27017\"\n",
    "mongodb_client = MongoClient(uri)\n",
    "\n",
    "\n",
    "try:\n",
    "    mongodb_client.admin.command(\"ping\")\n",
    "    print(\"Connected to MongoDB!\")\n",
    "except :\n",
    "    print(\"❌ Could not connect to MongoDB:\")\n",
    "\n",
    "### Get the CVE database ###\n",
    "NVD_CVE_DB = mongodb_client[\"nvdcve\"]\n",
    "\n",
    "### Get / create the collection ###\n",
    "enriched_cve_collection = NVD_CVE_DB[\"enriched_cve_entries\"]\n",
    "\n"
   ]
  }
 ],
 "metadata": {
  "kernelspec": {
   "display_name": "pydriller_env",
   "language": "python",
   "name": "python3"
  },
  "language_info": {
   "name": "python",
   "version": "3.13.1"
  }
 },
 "nbformat": 4,
 "nbformat_minor": 5
}
