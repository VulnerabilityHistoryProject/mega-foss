{
 "cells": [
  {
   "cell_type": "markdown",
   "id": "0",
   "metadata": {},
   "source": [
    "### Creating queries\n",
    "### Next step is to query all 300K-ish CVE entires in the NVD and store the top 3 matches into mongo.\""
   ]
  },
  {
   "cell_type": "code",
   "execution_count": 1,
   "id": "1",
   "metadata": {},
   "outputs": [],
   "source": [
    "import sys\n",
    "from pathlib import Path\n",
    "\n",
    "project_root = Path().resolve()\n",
    "while not (project_root / 'embedding_pipeline').exists() and project_root != project_root.parent:\n",
    "    project_root = project_root.parent\n",
    "\n",
    "sys.path.append(str(project_root))"
   ]
  },
  {
   "cell_type": "code",
   "execution_count": 2,
   "id": "2",
   "metadata": {},
   "outputs": [
    {
     "name": "stdout",
     "output_type": "stream",
     "text": [
      "Connecting to local client...\n",
      "Connected to local weaviate client--> is ready: True\n",
      "Collection names:\n",
      "- FOSS_vectors\n"
     ]
    }
   ],
   "source": [
    "### Local query test first ###\n",
    "NAME = \"FOSS_vectors\"\n",
    "\n",
    "from embedding_pipeline.weaviate_db.weaviate_config import connect_to_local_weaviate_client\n",
    "from embedding_pipeline.weaviate_db.weaviate_config import verify_weaviate_client_ready\n",
    "from embedding_pipeline.weaviate_db.weaviate_config import close_weaviate_client\n",
    "from embedding_pipeline.weaviate_db.weaviate_config import list_weaviate_collections, inspect_collection_properties, retrieve_existing_weaviate_collection\n",
    "\n",
    "local_client = connect_to_local_weaviate_client()\n",
    "list_weaviate_collections(local_client)\n"
   ]
  },
  {
   "cell_type": "code",
   "execution_count": 4,
   "id": "3",
   "metadata": {},
   "outputs": [
    {
     "name": "stdout",
     "output_type": "stream",
     "text": [
      "Nomic vector dimension: 768\n",
      "DistilBERT vector dimension: 384\n",
      "SBERT L6 vector dimension: 768\n",
      "SBERT L12 vector dimension: 384\n",
      "Vector name: bge_large_description_vec\n",
      "Dimensions: 1024\n",
      "Vector name: e5_large_description_vec\n",
      "Dimensions: 1024\n",
      "Vector name: gte_large_description_vec\n",
      "Dimensions: 1024\n",
      "Vector name: roberta_large_description_vec\n",
      "Dimensions: 1024\n",
      "Vector name: sbert_minilm_l12_v2_name_vec\n",
      "Dimensions: 384\n",
      "Vector name: sbert_minilm_l6_v2_name_vec\n",
      "Dimensions: 384\n",
      "Vector name: sbert_mpnet_base_v2_description_vec\n",
      "Dimensions: 768\n",
      "Vector name: distil_bert_name_vec\n",
      "Dimensions: 768\n",
      "Vector name: gte_large_name_vec\n",
      "Dimensions: 1024\n",
      "Vector name: ollama_nomic_name_vec\n",
      "Dimensions: 768\n"
     ]
    }
   ],
   "source": [
    "from embedding_pipeline.weaviate_db.weaviate_query_operations import query_weaviate_collection\n",
    "from embedding_pipeline.weaviate_db.weaviate_query_operations import get_query_vector_responses\n",
    "from embedding_pipeline.embedding_models.nomic_embed import embed_prompt_with_nomic\n",
    "from embedding_pipeline.embedding_models.DISTIL_BERT_embed import embed_prompt_with_distil_bert\n",
    "from embedding_pipeline.embedding_models.SBERT_mini_lm_l6_embed import embed_prompt_with_sbert_mini_l6\n",
    "from embedding_pipeline.embedding_models.SBERT_mini_lm_l12_embed import embed_prompt_with_sbert_mini_l12\n",
    "from pprint import pprint\n",
    "\n",
    "local_foss_collection = retrieve_existing_weaviate_collection(collection_name=NAME,weaviate_client=local_client)\n",
    "\n",
    "### Embed test query\n",
    "TEST_PROMPT = \"freebsd freebsd\"\n",
    "\n",
    "nomic_vec = embed_prompt_with_nomic(prompt=TEST_PROMPT)\n",
    "\n",
    "### embedding with distil bert --> acutually embedding with sbert l6\n",
    "### Dimension of l6 should be 384\n",
    "MIXED_UP_sbert_l6_vec= embed_prompt_with_distil_bert(prompt=TEST_PROMPT)\n",
    "\n",
    "### embedding with sbert l6 --> actually embedding with distil bert *** I'll fix error later\n",
    "### Dimension of distil should be 768\n",
    "MIXED_UP_distil_vec = embed_prompt_with_sbert_mini_l6(prompt=TEST_PROMPT)\n",
    "\n",
    "sbert_l12_vec = embed_prompt_with_sbert_mini_l12(prompt=TEST_PROMPT)\n",
    "\n",
    "# Check the dimensionality of your embedding vectors\n",
    "print(f\"Nomic vector dimension: {len(nomic_vec)}\")\n",
    "print(f\"DistilBERT vector dimension: {len(MIXED_UP_distil_vec)}\")\n",
    "print(f\"SBERT L6 vector dimension: {len(MIXED_UP_sbert_l6_vec)}\")\n",
    "print(f\"SBERT L12 vector dimension: {len(sbert_l12_vec)}\")\n",
    "\n",
    "\n",
    "schema = local_foss_collection.config.get()\n",
    "\n",
    "# # Print the vector configurations\n",
    "# for vector_name, vector_config in schema.vector_config.items():\n",
    "#     print(f\"Vector name: {vector_name}\")\n",
    "#     if hasattr(vector_config, \"dimensions\") and vector_config.dimensions is not None:\n",
    "#         print(f\"Dimensions: {vector_config.dimensions}\")\n",
    "#     else:\n",
    "#         print(\"Dimensions not explicitly set (using model default)\")\n",
    "\n",
    "for item in local_foss_collection.iterator(include_vector=True):\n",
    "    for vector_name, vector in item.vector.items():\n",
    "        print(f\"Vector name: {vector_name}\")\n",
    "        print(f\"Dimensions: {len(vector)}\")\n",
    "    break  # Just check the first object\n"
   ]
  },
  {
   "cell_type": "code",
   "execution_count": 5,
   "id": "4",
   "metadata": {},
   "outputs": [],
   "source": [
    "### Get the query object ###\n",
    "nomic_query_return = query_weaviate_collection(nomic_vec,target_name_vector_query=\"ollama_nomic_name_vec\",weaviate_client=local_client,collection_name=NAME)\n",
    "distil_query_return = query_weaviate_collection(MIXED_UP_distil_vec,target_name_vector_query=\"sbert_minilm_l6_v2_name_vec\",weaviate_client=local_client,collection_name=NAME)\n",
    "sbert_l6_query_return = query_weaviate_collection(MIXED_UP_sbert_l6_vec,target_name_vector_query=\"distil_bert_name_vec\",weaviate_client=local_client,collection_name=NAME)\n",
    "sbert_l12_query_return = query_weaviate_collection(sbert_l12_vec,target_name_vector_query=\"sbert_minilm_l12_v2_name_vec\",weaviate_client=local_client,collection_name=NAME)\n"
   ]
  },
  {
   "cell_type": "code",
   "execution_count": 5,
   "id": "5",
   "metadata": {},
   "outputs": [
    {
     "name": "stdout",
     "output_type": "stream",
     "text": [
      "#######################################\n",
      "#######################################\n",
      "NOMIC\n",
      "[{'foss_project_name': 'TensorFlow',\n",
      "  'vector_certainty': 0.48803067207336426,\n",
      "  'vector_distance': 1.0239386558532715}]\n",
      "#######################################\n",
      "#######################################\n",
      "DISTIL\n",
      "[{'foss_project_name': 'TensorFlow',\n",
      "  'vector_certainty': 0.5127314329147339,\n",
      "  'vector_distance': 0.9745371341705322}]\n",
      "#######################################\n",
      "#######################################\n",
      "SBERT L6\n",
      "[{'foss_project_name': 'TensorFlow',\n",
      "  'vector_certainty': 0.4823462963104248,\n",
      "  'vector_distance': 1.0353074073791504}]\n",
      "#######################################\n",
      "#######################################\n",
      "SBERT L12\n",
      "[{'foss_project_name': 'TensorFlow',\n",
      "  'vector_certainty': 0.4771720767021179,\n",
      "  'vector_distance': 1.0456558465957642}]\n"
     ]
    }
   ],
   "source": [
    "### Get the import vector info ###\n",
    "nomic_response = get_query_vector_responses(response=nomic_query_return)\n",
    "distil_response = get_query_vector_responses(response=distil_query_return)\n",
    "sbert_l6_response = get_query_vector_responses(response=sbert_l6_query_return)\n",
    "sbert_l12_response = get_query_vector_responses(response=sbert_l12_query_return)\n",
    "\n",
    "\n",
    "\n",
    "### Check out the research results!!! ###\n",
    "print(\"#######################################\")\n",
    "print(\"#######################################\")\n",
    "print(\"NOMIC\")\n",
    "pprint(nomic_response)\n",
    "print(\"#######################################\")\n",
    "print(\"#######################################\")\n",
    "print(\"DISTIL\")\n",
    "pprint(distil_response)\n",
    "print(\"#######################################\")\n",
    "print(\"#######################################\")\n",
    "print(\"SBERT L6\")\n",
    "pprint(sbert_l6_response)\n",
    "print(\"#######################################\")\n",
    "print(\"#######################################\")\n",
    "print(\"SBERT L12\")\n",
    "pprint(sbert_l12_response)"
   ]
  },
  {
   "cell_type": "code",
   "execution_count": 7,
   "id": "6",
   "metadata": {},
   "outputs": [
    {
     "name": "stderr",
     "output_type": "stream",
     "text": [
      "/home/culmination/miniconda3/envs/pydriller_env/lib/python3.13/site-packages/weaviate/warnings.py:314: ResourceWarning: Con004: The connection to Weaviate was not closed properly. This can lead to memory leaks.\n",
      "            Please make sure to close the connection using `client.close()`.\n",
      "  warnings.warn(\n",
      "/tmp/ipykernel_153971/1830104089.py:4: ResourceWarning: unclosed <ssl.SSLSocket fd=65, family=2, type=1, proto=6, laddr=('129.21.61.35', 44786), raddr=('35.201.124.182', 443)>\n",
      "  remote_client = create_remote_weaviate_client()\n",
      "ResourceWarning: Enable tracemalloc to get the object allocation traceback\n"
     ]
    }
   ],
   "source": [
    "### Querying remote weaviate database ###\n",
    "from embedding_pipeline.weaviate_db.weaviate_config import create_remote_weaviate_client\n",
    "\n",
    "remote_client = create_remote_weaviate_client()\n",
    "### Get the query object ###\n",
    "nomic_query_return_remote = query_weaviate_collection(nomic_vec,target_name_vector_query=\"ollama_nomic_name_vec\",weaviate_client=remote_client,collection_name=NAME)\n",
    "distil_query_return_remote = query_weaviate_collection(MIXED_UP_distil_vec,target_name_vector_query=\"distil_bert_name_vec\",weaviate_client=remote_client,collection_name=NAME)\n",
    "sbert_l6_query_return_remote = query_weaviate_collection(MIXED_UP_sbert_l6_vec,target_name_vector_query=\"sbert_minilm_l6_v2_name_vec\",weaviate_client=remote_client,collection_name=NAME)\n",
    "sbert_l12_query_return_remote = query_weaviate_collection(sbert_l12_vec,target_name_vector_query=\"sbert_minilm_l12_v2_name_vec\",weaviate_client=remote_client,collection_name=NAME)\n"
   ]
  },
  {
   "cell_type": "code",
   "execution_count": 8,
   "id": "7",
   "metadata": {},
   "outputs": [
    {
     "name": "stdout",
     "output_type": "stream",
     "text": [
      "#######################################\n",
      "#######################################\n",
      "NOMIC\n",
      "[{'foss_project_name': 'freebsd freebsd-src',\n",
      "  'vector_certainty': 0.8863022327423096,\n",
      "  'vector_distance': 0.22739553451538086},\n",
      " {'foss_project_name': 'FreeCAD FreeCAD',\n",
      "  'vector_certainty': 0.8728582262992859,\n",
      "  'vector_distance': 0.2542835474014282},\n",
      " {'foss_project_name': 'Freeboard freeboard',\n",
      "  'vector_certainty': 0.833430826663971,\n",
      "  'vector_distance': 0.3331383466720581}]\n",
      "#######################################\n",
      "#######################################\n",
      "DISTIL\n",
      "[{'foss_project_name': 'freebsd freebsd-src',\n",
      "  'vector_certainty': 0.675735592842102,\n",
      "  'vector_distance': 0.6485288143157959},\n",
      " {'foss_project_name': 'briannesbitt Carbon',\n",
      "  'vector_certainty': 0.6681805849075317,\n",
      "  'vector_distance': 0.6636387705802917},\n",
      " {'foss_project_name': 'DIYgod RSSHub',\n",
      "  'vector_certainty': 0.666953980922699,\n",
      "  'vector_distance': 0.666092038154602}]\n",
      "#######################################\n",
      "#######################################\n",
      "SBERT L6\n",
      "[{'foss_project_name': 'freebsd freebsd-src',\n",
      "  'vector_certainty': 0.9565384387969971,\n",
      "  'vector_distance': 0.08692312240600586},\n",
      " {'foss_project_name': 'Freeboard freeboard',\n",
      "  'vector_certainty': 0.8466363549232483,\n",
      "  'vector_distance': 0.3067272901535034},\n",
      " {'foss_project_name': 'wordshub free-font',\n",
      "  'vector_certainty': 0.8448218107223511,\n",
      "  'vector_distance': 0.3103564381599426}]\n",
      "#######################################\n",
      "#######################################\n",
      "SBERT L12\n",
      "[{'foss_project_name': 'freebsd freebsd-src',\n",
      "  'vector_certainty': 0.6926770210266113,\n",
      "  'vector_distance': 0.6146458983421326},\n",
      " {'foss_project_name': 'Freeboard freeboard',\n",
      "  'vector_certainty': 0.6821271181106567,\n",
      "  'vector_distance': 0.6357457637786865},\n",
      " {'foss_project_name': 'writefreely writefreely',\n",
      "  'vector_certainty': 0.6612957715988159,\n",
      "  'vector_distance': 0.6774084568023682}]\n"
     ]
    }
   ],
   "source": [
    "### Get the import vector info ###\n",
    "nomic_response = get_query_vector_responses(response=nomic_query_return_remote)\n",
    "distil_response = get_query_vector_responses(response=distil_query_return_remote)\n",
    "sbert_l6_response = get_query_vector_responses(response=sbert_l6_query_return_remote)\n",
    "sbert_l12_response = get_query_vector_responses(response=sbert_l12_query_return_remote)\n",
    "\n",
    "\n",
    "\n",
    "### Check out the research results!!! ###\n",
    "print(\"#######################################\")\n",
    "print(\"#######################################\")\n",
    "print(\"NOMIC\")\n",
    "pprint(nomic_response)\n",
    "print(\"#######################################\")\n",
    "print(\"#######################################\")\n",
    "print(\"DISTIL\")\n",
    "pprint(distil_response)\n",
    "print(\"#######################################\")\n",
    "print(\"#######################################\")\n",
    "print(\"SBERT L6\")\n",
    "pprint(sbert_l6_response)\n",
    "print(\"#######################################\")\n",
    "print(\"#######################################\")\n",
    "print(\"SBERT L12\")\n",
    "pprint(sbert_l12_response)"
   ]
  },
  {
   "cell_type": "code",
   "execution_count": null,
   "id": "8",
   "metadata": {},
   "outputs": [],
   "source": [
    "### Try name + description queries ###\n",
    "from embedding_pipeline.embedding_models.BGE_large_embed import embed_prompt_with_bge_large\n",
    "from embedding_pipeline.embedding_models.E5_large_embed import embed_prompt_with_e5_large\n",
    "from embedding_pipeline.embedding_models.SBERT_mpnet_embed import embed_prompt_with_sbert_mpnet\n",
    "from embedding_pipeline.embedding_models.ROBERTA_large_embed import embed_prompt_with_roberta_large\n",
    "\n",
    "\n",
    "\n",
    "DESCR_TEST_PROMPT_1 = \"Linux, BSD, OSX and Windows\"\n",
    "DESCR_TEST_PROMPT_2 = \"A vulnerability was found in Nothings stb up to f056911. It has been declared as critical. Affected by this vulnerability is the function stbhw_build_tileset_from_image. The manipulation of the argument h_count/v_count leads to out-of-bounds read. The attack can be launched remotely. This product takes the approach of rolling releases to provide continious delivery. Therefore, version details for affected and updated releases are not available. The vendor was contacted early about this disclosure but did not respond in any way.\"\n",
    "\n",
    "bge_vec = embed_prompt_with_bge_large(prompt=DESCR_TEST_PROMPT_1)\n",
    "e5_vec = embed_prompt_with_e5_large(prompt=DESCR_TEST_PROMPT_1)\n",
    "sbert_mpnet_vec = embed_prompt_with_sbert_mpnet(prompt=DESCR_TEST_PROMPT_1)\n",
    "roberta_vec = embed_prompt_with_roberta_large(prompt=DESCR_TEST_PROMPT_1)\n",
    "\n",
    "bge_query_return = query_weaviate_collection(vector_query=bge_vec,target_name_vector_query=\"bge_large_description_vec\",weaviate_client=local_client,collection_name=NAME)\n",
    "e5_query_return = query_weaviate_collection(vector_query=e5_vec,target_name_vector_query=\"e5_large_description_vec\",weaviate_client=local_client,collection_name=NAME)\n",
    "sbert_mpnet_query_return = query_weaviate_collection(vector_query=sbert_mpnet_vec,target_name_vector_query=\"sbert_mpnet_base_v2_description_vec\",weaviate_client=local_client,collection_name=NAME)\n",
    "roberta_query_return = query_weaviate_collection(vector_query=roberta_vec,target_name_vector_query=\"roberta_large_description_vec\",weaviate_client=local_client,collection_name=NAME)"
   ]
  },
  {
   "cell_type": "code",
   "execution_count": null,
   "id": "9",
   "metadata": {},
   "outputs": [],
   "source": [
    "### Get the import vector info ###\n",
    "bge_response = get_query_vector_responses(response=bge_query_return)\n",
    "e5_response = get_query_vector_responses(response=e5_query_return)\n",
    "sbert_mpnet_response = get_query_vector_responses(response=sbert_mpnet_query_return)\n",
    "roberta_response = get_query_vector_responses(response=roberta_query_return)\n",
    "\n",
    "\n",
    "\n",
    "### Check out the research results!!! ###\n",
    "print(\"#######################################\")\n",
    "print(\"#######################################\")\n",
    "print(\"BGE\")\n",
    "pprint(bge_response)\n",
    "print(\"#######################################\")\n",
    "print(\"#######################################\")\n",
    "print(\"E5\")\n",
    "pprint(e5_response)\n",
    "print(\"#######################################\")\n",
    "print(\"#######################################\")\n",
    "print(\"SBERT MPNET\")\n",
    "pprint(sbert_mpnet_response)\n",
    "print(\"#######################################\")\n",
    "print(\"#######################################\")\n",
    "print(\"ROBERTA\")\n",
    "pprint(roberta_response)"
   ]
  },
  {
   "cell_type": "code",
   "execution_count": 6,
   "id": "6974a486",
   "metadata": {},
   "outputs": [
    {
     "name": "stdout",
     "output_type": "stream",
     "text": [
      "{'cve_id': 'CVE-1999-0001', 'cwe_val': ['CWE-20'], 'cve_description': 'ip_input.c in BSD-derived TCP/IP implementations allows remote attackers to cause a denial of service (crash or hang) via crafted packets.', 'cpes_with_versions': {'freebsd freebsd': ['2.2.5', '2.2.2', '2.1.7', '2.2.3', '2.0.5', '1.1.5.1', '1.0', '2.2', '2.2.8', '2.2.4', '2.2.6', '2.1.6', '1.1', '2.1.6.1', '2.1.7.1', '3.0', '2.1.5', '2.0.1', '1.2', '2.0'], 'bsdi bsd_os': ['3.1'], 'openbsd openbsd': ['2.4', '2.3']}, 'foss_vec_matches': []}\n"
     ]
    }
   ],
   "source": [
    "### About to query all the CVE / CPEs ###\n",
    "\n",
    "import json\n",
    "\n",
    "with open(\"../../enriched_cve_data/cve-cpe-foss_data.json\", \"r\", encoding=\"utf-8\") as f:\n",
    "    data = json.load(f)\n",
    "\n",
    "# Example: print the first entry\n",
    "print(data[0])"
   ]
  },
  {
   "cell_type": "code",
   "execution_count": 2,
   "id": "6381cb23",
   "metadata": {},
   "outputs": [
    {
     "name": "stdout",
     "output_type": "stream",
     "text": [
      "Connected to MongoDB!\n"
     ]
    }
   ],
   "source": [
    "### Create new MongoDB collection ###\n",
    "from pymongo import MongoClient\n",
    "\n",
    "uri = \"mongodb://localhost:27017\"\n",
    "mongodb_client = MongoClient(uri)\n",
    "\n",
    "\n",
    "try:\n",
    "    mongodb_client.admin.command(\"ping\")\n",
    "    print(\"Connected to MongoDB!\")\n",
    "except :\n",
    "    print(\"❌ Could not connect to MongoDB:\")\n",
    "\n",
    "### Get the CVE database ###\n",
    "CVE_DB = mongodb_client[\"nvdcve\"]\n",
    "\n",
    "enriched_cve_collection = CVE_DB[\"enriched_cve_entries\"]\n",
    "\n"
   ]
  },
  {
   "cell_type": "code",
   "execution_count": null,
   "id": "19e3b63f",
   "metadata": {},
   "outputs": [
    {
     "ename": "ModuleNotFoundError",
     "evalue": "No module named 'embedding_pipeline'",
     "output_type": "error",
     "traceback": [
      "\u001b[0;31m---------------------------------------------------------------------------\u001b[0m",
      "\u001b[0;31mModuleNotFoundError\u001b[0m                       Traceback (most recent call last)",
      "Cell \u001b[0;32mIn[1], line 1\u001b[0m\n\u001b[0;32m----> 1\u001b[0m \u001b[38;5;28;01mfrom\u001b[39;00m\u001b[38;5;250m \u001b[39m\u001b[38;5;21;01membedding_pipeline\u001b[39;00m\u001b[38;5;21;01m.\u001b[39;00m\u001b[38;5;21;01membedding_models\u001b[39;00m\u001b[38;5;21;01m.\u001b[39;00m\u001b[38;5;21;01mGTE_large_embed\u001b[39;00m\u001b[38;5;250m \u001b[39m\u001b[38;5;28;01mimport\u001b[39;00m embed_prompt_with_gte_large\n\u001b[1;32m      3\u001b[0m \u001b[38;5;28;01mfor\u001b[39;00m entry \u001b[38;5;129;01min\u001b[39;00m data:\n\u001b[1;32m      4\u001b[0m     new_match \u001b[38;5;241m=\u001b[39m {}\n",
      "\u001b[0;31mModuleNotFoundError\u001b[0m: No module named 'embedding_pipeline'"
     ]
    }
   ],
   "source": [
    "from embedding_pipeline.embedding_models.GTE_large_embed import embed_prompt_with_gte_large\n",
    "import copy\n",
    "### set the batch size ###\n",
    "BATCH_SIZE = 500\n",
    "BATCH = []\n",
    "\n",
    "\n",
    "for entry in data:\n",
    "    try:\n",
    "        # all processing code here\n",
    "\n",
    "        enriched_mongo_entry = copy.deepcopy(entry)\n",
    "\n",
    "        ### Temporary list to hold vector responses for individual CPEs (ven:product combos)\n",
    "        enriched_cpe_matches = []\n",
    "\n",
    "\n",
    "        if 'cpes_with_versions' not in entry or not entry['cpes_with_versions']:\n",
    "            continue\n",
    "\n",
    "        for cpe in entry['cpes_with_versions']:\n",
    "\n",
    "\n",
    "            \n",
    "            ### Get the CPE identifier ###\n",
    "            vendor_query:str = cpe\n",
    "\n",
    "\n",
    "            nomic_vec = embed_prompt_with_nomic(prompt=vendor_query)\n",
    "            MIXED_UP_sbert_l6_vec= embed_prompt_with_distil_bert(prompt=vendor_query)\n",
    "            MIXED_UP_distil_vec = embed_prompt_with_sbert_mini_l6(prompt=vendor_query)\n",
    "            sbert_l12_vec = embed_prompt_with_sbert_mini_l12(prompt=vendor_query)\n",
    "            gte_large_vec = embed_prompt_with_gte_large(prompt= vendor_query)\n",
    "\n",
    "\n",
    "            ### Get the query object ###\n",
    "            nomic_query_return = query_weaviate_collection(nomic_vec,target_name_vector_query=\"ollama_nomic_name_vec\",weaviate_client=local_client,collection_name=NAME)\n",
    "            distil_query_return = query_weaviate_collection(MIXED_UP_distil_vec,target_name_vector_query=\"distil_bert_name_vec\",weaviate_client=local_client,collection_name=NAME)\n",
    "            sbert_l6_query_return = query_weaviate_collection(MIXED_UP_sbert_l6_vec,target_name_vector_query=\"sbert_minilm_l6_v2_name_vec\",weaviate_client=local_client,collection_name=NAME)\n",
    "            sbert_l12_query_return = query_weaviate_collection(sbert_l12_vec,target_name_vector_query=\"sbert_minilm_l12_v2_name_vec\",weaviate_client=local_client,collection_name=NAME)\n",
    "            gte_large_query_return = query_weaviate_collection(gte_large_vec,target_name_vector_query=\"gte_large_name_vec\",weaviate_client=local_client,collection_name=NAME)\n",
    "\n",
    "            ### Get the import vector info ###\n",
    "            nomic_response = get_query_vector_responses(response=nomic_query_return)\n",
    "            distil_response = get_query_vector_responses(response=distil_query_return)\n",
    "            sbert_l6_response = get_query_vector_responses(response=sbert_l6_query_return)\n",
    "            sbert_l12_response = get_query_vector_responses(response=sbert_l12_query_return)\n",
    "            gte_large_response = get_query_vector_responses(response=gte_large_query_return)\n",
    "            \n",
    "        \n",
    "\n",
    "            \n",
    "            ### Getting the first vector because this will have the highest cosine similarity / distance  ### \n",
    "            # nomic_final = nomic_response[0]\n",
    "            # distil_final = distil_response[0]\n",
    "            # sbert_l6_final = sbert_l6_response[0]\n",
    "            # sbert_12_final = sbert_l12_response[0]\n",
    "            # gte_large_final = gte_large_response[0]\n",
    "            \n",
    "            enriched_cpe_matches.append({\n",
    "                \"cpe\": vendor_query,\n",
    "                \"nomic\": nomic_response,\n",
    "                \"distil\": distil_response,\n",
    "                \"sbert_l6\": sbert_l6_response,\n",
    "                \"sbert_l12\": sbert_l12_response,\n",
    "                \"gte_large\": gte_large_response\n",
    "            })\n",
    "\n",
    "        \n",
    "        ### An 'enriched_mongo_entry' represents 1 entire CVE (that has multiple cpes) ###\n",
    "        enriched_mongo_entry[\"foss_vec_matches\"] = enriched_cpe_matches\n",
    "        \n",
    "        \n",
    "        \n",
    "        BATCH.append(enriched_mongo_entry)\n",
    "\n",
    "        # Batch insert every 500 entries\n",
    "        if len(BATCH) >= BATCH_SIZE:\n",
    "            enriched_cve_collection.insert_many(BATCH)\n",
    "            BATCH = []\n",
    "\n",
    "\n",
    "    except Exception as e:\n",
    "        print(f\"Failed on entry {entry.get('id', 'unknown')}: {e}\")\n",
    "        continue\n",
    "        \n",
    "# Insert any remaining\n",
    "if BATCH:\n",
    "    enriched_cve_collection.insert_many(BATCH)\n",
    "    \n",
    "    \n",
    "\n"
   ]
  },
  {
   "cell_type": "code",
   "execution_count": null,
   "id": "10",
   "metadata": {},
   "outputs": [
    {
     "name": "stdout",
     "output_type": "stream",
     "text": [
      "Closing connection to weaviate client\n"
     ]
    },
    {
     "ename": "NameError",
     "evalue": "name 'remote_client' is not defined",
     "output_type": "error",
     "traceback": [
      "\u001b[0;31m---------------------------------------------------------------------------\u001b[0m",
      "\u001b[0;31mNameError\u001b[0m                                 Traceback (most recent call last)",
      "Cell \u001b[0;32mIn[12], line 2\u001b[0m\n\u001b[1;32m      1\u001b[0m close_weaviate_client(local_client)\n\u001b[0;32m----> 2\u001b[0m close_weaviate_client(\u001b[43mremote_client\u001b[49m)\n",
      "\u001b[0;31mNameError\u001b[0m: name 'remote_client' is not defined"
     ]
    }
   ],
   "source": [
    "close_weaviate_client(local_client)\n",
    "#close_weaviate_client(remote_client)"
   ]
  }
 ],
 "metadata": {
  "kernelspec": {
   "display_name": "pydriller_env",
   "language": "python",
   "name": "python3"
  },
  "language_info": {
   "codemirror_mode": {
    "name": "ipython",
    "version": 3
   },
   "file_extension": ".py",
   "mimetype": "text/x-python",
   "name": "python",
   "nbconvert_exporter": "python",
   "pygments_lexer": "ipython3",
   "version": "3.13.1"
  }
 },
 "nbformat": 4,
 "nbformat_minor": 5
}
