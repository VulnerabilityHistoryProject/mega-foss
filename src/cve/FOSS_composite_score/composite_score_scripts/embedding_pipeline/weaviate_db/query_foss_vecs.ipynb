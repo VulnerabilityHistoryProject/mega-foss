{
 "cells": [
  {
   "cell_type": "markdown",
   "id": "b2811092",
   "metadata": {},
   "source": [
    "### Creating queries\n",
    "### Next step is to query all 300K-ish CVE entires in the NVD and store the top 3 matches into mongo.\""
   ]
  },
  {
   "cell_type": "code",
   "execution_count": 1,
   "id": "a529c4c0",
   "metadata": {},
   "outputs": [],
   "source": [
    "import sys\n",
    "from pathlib import Path\n",
    "\n",
    "project_root = Path().resolve()\n",
    "while not (project_root / 'embedding_pipeline').exists() and project_root != project_root.parent:\n",
    "    project_root = project_root.parent\n",
    "\n",
    "sys.path.append(str(project_root))"
   ]
  },
  {
   "cell_type": "code",
   "execution_count": 2,
   "id": "56cd186e",
   "metadata": {},
   "outputs": [
    {
     "name": "stdout",
     "output_type": "stream",
     "text": [
      "Connecting to local client...\n",
      "Connected to local weaviate client--> is ready: True\n",
      "Collection names:\n",
      "- FOSS_vectors\n",
      "Collections: FOSS_vectors\n"
     ]
    }
   ],
   "source": [
    "### Local query test first ###\n",
    "NAME = \"FOSS_vectors\"\n",
    "\n",
    "from embedding_pipeline.weaviate_db.weaviate_config import connect_to_local_weaviate_client\n",
    "from embedding_pipeline.weaviate_db.weaviate_config import verify_weaviate_client_ready\n",
    "from embedding_pipeline.weaviate_db.weaviate_config import close_weaviate_client, create_weaviate_collection\n",
    "from embedding_pipeline.weaviate_db.weaviate_config import list_weaviate_collections, inspect_collection_properties, retrieve_existing_weaviate_collection\n",
    "\n",
    "local_client = connect_to_local_weaviate_client()\n",
    "list_weaviate_collections(local_client)\n"
   ]
  },
  {
   "cell_type": "code",
   "execution_count": 10,
   "id": "acfafe93",
   "metadata": {},
   "outputs": [
    {
     "name": "stdout",
     "output_type": "stream",
     "text": [
      "Nomic vector dimension: 768\n",
      "DistilBERT vector dimension: 768\n",
      "SBERT L6 vector dimension: 384\n",
      "SBERT L12 vector dimension: 384\n",
      "Vector name: roberta_large_description_vec\n",
      "Dimensions: 1024\n",
      "Vector name: sbert_minilm_l12_v2_name_vec\n",
      "Dimensions: 384\n",
      "Vector name: sbert_mpnet_base_v2_description_vec\n",
      "Dimensions: 768\n",
      "Vector name: distil_bert_name_vec\n",
      "Dimensions: 384\n",
      "Vector name: e5_large_description_vec\n",
      "Dimensions: 1024\n",
      "Vector name: gte_large_name_vec\n",
      "Dimensions: 1024\n",
      "Vector name: ollama_nomic_name_vec\n",
      "Dimensions: 768\n",
      "Vector name: sbert_minilm_l6_v2_name_vec\n",
      "Dimensions: 768\n",
      "Vector name: bge_large_description_vec\n",
      "Dimensions: 1024\n",
      "Vector name: gte_large_description_vec\n",
      "Dimensions: 1024\n"
     ]
    }
   ],
   "source": [
    "from embedding_pipeline.weaviate_db.weaviate_query_operations import query_weaviate_collection\n",
    "from embedding_pipeline.weaviate_db.weaviate_query_operations import get_query_vector_responses\n",
    "from embedding_pipeline.embedding_models.nomic_embed import embed_prompt_with_nomic\n",
    "from embedding_pipeline.embedding_models.DISTIL_BERT_embed import embed_prompt_with_distil_bert\n",
    "from embedding_pipeline.embedding_models.SBERT_mini_lm_l6_embed import embed_prompt_with_sbert_mini_l6\n",
    "from embedding_pipeline.embedding_models.SBERT_mini_lm_l12_embed import embed_prompt_with_sbert_mini_l12\n",
    "from pprint import pprint\n",
    "import json\n",
    "local_foss_collection = retrieve_existing_weaviate_collection(collection_name=NAME,weaviate_client=local_client)\n",
    "\n",
    "### Embed test query\n",
    "TEST_PROMPT = \"freebsd:freebsd\"\n",
    "\n",
    "nomic_vec = embed_prompt_with_nomic(prompt=TEST_PROMPT)\n",
    "distil_vec = embed_prompt_with_distil_bert(prompt=TEST_PROMPT)\n",
    "sbert_l6_vec = embed_prompt_with_sbert_mini_l6(prompt=TEST_PROMPT)\n",
    "sbert_l12_vec = embed_prompt_with_sbert_mini_l12(prompt=TEST_PROMPT)\n",
    "\n",
    "# Check the dimensionality of your embedding vectors\n",
    "print(f\"Nomic vector dimension: {len(nomic_vec)}\")\n",
    "print(f\"DistilBERT vector dimension: {len(distil_vec)}\")\n",
    "print(f\"SBERT L6 vector dimension: {len(sbert_l6_vec)}\")\n",
    "print(f\"SBERT L12 vector dimension: {len(sbert_l12_vec)}\")\n",
    "\n",
    "\n",
    "schema = local_foss_collection.config.get()\n",
    "\n",
    "# # Print the vector configurations\n",
    "# for vector_name, vector_config in schema.vector_config.items():\n",
    "#     print(f\"Vector name: {vector_name}\")\n",
    "#     if hasattr(vector_config, \"dimensions\") and vector_config.dimensions is not None:\n",
    "#         print(f\"Dimensions: {vector_config.dimensions}\")\n",
    "#     else:\n",
    "#         print(\"Dimensions not explicitly set (using model default)\")\n",
    "\n",
    "for item in local_foss_collection.iterator(include_vector=True):\n",
    "    for vector_name, vector in item.vector.items():\n",
    "        print(f\"Vector name: {vector_name}\")\n",
    "        print(f\"Dimensions: {len(vector)}\")\n",
    "    break  # Just check the first object\n"
   ]
  },
  {
   "cell_type": "code",
   "execution_count": null,
   "id": "16139f2d",
   "metadata": {},
   "outputs": [],
   "source": [
    "### Get the query object ###\n",
    "nomic_query_return = query_weaviate_collection(nomic_vec,target_name_vector_query=\"ollama_nomic_name_vec\",weaviate_client=local_client,collection_name=NAME)\n",
    "distil_query_return = query_weaviate_collection(distil_vec,target_name_vector_query=\"distil_bert_name_vec\",weaviate_client=local_client,collection_name=NAME)\n",
    "sbert_l6_query_return = query_weaviate_collection(sbert_l6_vec,target_name_vector_query=\"sbert_mini_l6_v2_name_vec\",weaviate_client=local_client,collection_name=NAME)\n",
    "sbert_l12_query_return = query_weaviate_collection(sbert_l12_vec,target_name_vector_query=\"sbert_minilm_l12_v2_name_vec\",weaviate_client=local_client,collection_name=NAME)\n"
   ]
  },
  {
   "cell_type": "code",
   "execution_count": null,
   "id": "c208c7a8",
   "metadata": {},
   "outputs": [],
   "source": [
    "### Get the import vector info ###\n",
    "nomic_response = get_query_vector_responses(response=nomic_query_return)\n",
    "distil_response = get_query_vector_responses(response=distil_query_return)\n",
    "sbert_l6_response = get_query_vector_responses(response=sbert_l6_query_return)\n",
    "sbert_l12_response = get_query_vector_responses(response=sbert_l12_query_return)\n",
    "\n",
    "\n",
    "\n",
    "### Check out the research results!!! ###\n",
    "print(\"#######################################\")\n",
    "print(\"#######################################\")\n",
    "print(\"NOMIC\")\n",
    "pprint(nomic_response)\n",
    "print(\"#######################################\")\n",
    "print(\"#######################################\")\n",
    "print(\"DISTIL\")\n",
    "pprint(distil_response)\n",
    "print(\"#######################################\")\n",
    "print(\"#######################################\")\n",
    "print(\"SBERT L6\")\n",
    "pprint(sbert_l6_response)\n",
    "print(\"#######################################\")\n",
    "print(\"#######################################\")\n",
    "print(\"SBERT L12\")\n",
    "pprint(sbert_l12_response)"
   ]
  }
 ],
 "metadata": {
  "kernelspec": {
   "display_name": "pydriller_env",
   "language": "python",
   "name": "python3"
  },
  "language_info": {
   "codemirror_mode": {
    "name": "ipython",
    "version": 3
   },
   "file_extension": ".py",
   "mimetype": "text/x-python",
   "name": "python",
   "nbconvert_exporter": "python",
   "pygments_lexer": "ipython3",
   "version": "3.13.1"
  }
 },
 "nbformat": 4,
 "nbformat_minor": 5
}
