{
 "cells": [
  {
   "cell_type": "markdown",
   "id": "b2811092",
   "metadata": {},
   "source": [
    "### Creating queries\n",
    "### Next step is to query all 300K-ish CVE entires in the NVD and store the top 3 matches into mongo.\""
   ]
  },
  {
   "cell_type": "code",
   "execution_count": 1,
   "id": "a529c4c0",
   "metadata": {},
   "outputs": [],
   "source": [
    "import sys\n",
    "from pathlib import Path\n",
    "\n",
    "project_root = Path().resolve()\n",
    "while not (project_root / 'embedding_pipeline').exists() and project_root != project_root.parent:\n",
    "    project_root = project_root.parent\n",
    "\n",
    "sys.path.append(str(project_root))"
   ]
  },
  {
   "cell_type": "code",
   "execution_count": 2,
   "id": "56cd186e",
   "metadata": {},
   "outputs": [
    {
     "name": "stdout",
     "output_type": "stream",
     "text": [
      "Connecting to local client...\n",
      "Connected to local weaviate client--> is ready: True\n",
      "Collection names:\n",
      "- FOSS_vectors\n",
      "Collections: FOSS_vectors\n"
     ]
    }
   ],
   "source": [
    "### Local query test first ###\n",
    "NAME = \"FOSS_vectors\"\n",
    "\n",
    "from embedding_pipeline.weaviate_db.weaviate_config import connect_to_local_weaviate_client\n",
    "from embedding_pipeline.weaviate_db.weaviate_config import verify_weaviate_client_ready\n",
    "from embedding_pipeline.weaviate_db.weaviate_config import close_weaviate_client, create_weaviate_collection\n",
    "from embedding_pipeline.weaviate_db.weaviate_config import list_weaviate_collections, inspect_collection_properties, retrieve_existing_weaviate_collection\n",
    "\n",
    "local_client = connect_to_local_weaviate_client()\n",
    "list_weaviate_collections(local_client)\n"
   ]
  },
  {
   "cell_type": "code",
   "execution_count": null,
   "id": "acfafe93",
   "metadata": {},
   "outputs": [],
   "source": [
    "from embedding_pipeline.weaviate_db.weaviate_query_operations import query_weaviate_collection\n",
    "from embedding_pipeline.weaviate_db.weaviate_query_operations import get_query_vector_responses\n",
    "from embedding_pipeline.embedding_models.nomic_embed import embed_prompt_with_nomic\n",
    "from embedding_pipeline.embedding_models.DISTIL_BERT_embed import embed_prompt_with_distil_bert\n",
    "from embedding_pipeline.embedding_models.SBERT_mini_lm_l6_embed import embed_prompt_with_sbert_mini_l6\n",
    "from embedding_pipeline.embedding_models.SBERT_mini_lm_l12_embed import embed_prompt_with_sbert_mini_l12\n",
    "local_foss_collection = retrieve_existing_weaviate_collection(collection_name=NAME,weaviate_client=local_client)\n",
    "\n",
    "### Embed test query\n",
    "TEST_PROMPT = \"freebsd:freebsd\"\n",
    "\n",
    "query_weaviate_collection()"
   ]
  }
 ],
 "metadata": {
  "kernelspec": {
   "display_name": "pydriller_env",
   "language": "python",
   "name": "python3"
  },
  "language_info": {
   "codemirror_mode": {
    "name": "ipython",
    "version": 3
   },
   "file_extension": ".py",
   "mimetype": "text/x-python",
   "name": "python",
   "nbconvert_exporter": "python",
   "pygments_lexer": "ipython3",
   "version": "3.13.1"
  }
 },
 "nbformat": 4,
 "nbformat_minor": 5
}
