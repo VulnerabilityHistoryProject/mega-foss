{
 "cells": [
  {
   "cell_type": "markdown",
   "id": "0",
   "metadata": {},
   "source": [
    "### 🔧 FOSS Project Embedding Pipeline (Multimodel Ingestion to Weaviate)\n",
    "\n",
    "This notebook outlines the complete pipeline for embedding Free and Open Source Software (FOSS) project metadata (names and descriptions) using nine different transformer models. The resulting vector representations are ingested into a local Weaviate instance for semantic search and similarity-based retrieval.\n",
    "\n",
    "### 🎯 Goal\n",
    "\n",
    "To enable robust semantic matching of CVEs (Common Vulnerabilities and Exposures) to relevant FOSS projects by populating a vector database with diverse model embeddings of project descriptions and names.\n",
    "\n",
    "---\n",
    "\n",
    "### 🚀 Pipeline Overview\n",
    "\n",
    "1. **Data Ingestion**\n",
    "   - Load FOSS project metadata, specifically the `name` and `description` fields, from a structured dataset (e.g., JSON, CSV).\n",
    "   - Clean and preprocess the text (e.g., lowercasing, trimming, deduplication, handling nulls).\n",
    "\n",
    "2. **Model Embedding**\n",
    "   - Apply **nine transformer models** (e.g., from HuggingFace or Sentence Transformers) to generate vector representations of each FOSS project:\n",
    "     - Each model processes both the `name` and `description` separately.\n",
    "     - Models may include general-purpose encoders, domain-specific variants, or multilingual models.\n",
    "\n",
    "3. **Vector Storage in Weaviate**\n",
    "   - Connect to a **locally running Weaviate instance** with vector index enabled.\n",
    "   - Define a Weaviate schema with one class (e.g., `FOSSProject`) and multiple vector fields (e.g., `name_vector_model1`, `desc_vector_model1`, etc.).\n",
    "   - Insert project entries into Weaviate, including:\n",
    "     - Original metadata (name, description).\n",
    "     - All generated vectors with model-specific field names.\n",
    "     - Optional: metadata such as model used, processing time, or source info.\n",
    "\n",
    "4. **Search and Validation**\n",
    "   - Use Weaviate's vector search (`nearVector`) or hybrid search to validate embeddings by querying semantically similar entries.\n",
    "   - Optionally log distance or certainty metadata for inspection.\n",
    "\n",
    "---\n",
    "\n",
    "### 🧠 Key Benefits\n",
    "\n",
    "- **Multimodel Embedding**: Redundancy and diversity in embeddings improves robustness for downstream tasks (e.g., matching CVEs with fuzzy descriptions).\n",
    "- **Modular Architecture**: Easy to add/remove models, change Weaviate schema, or plug into external CVE parsing pipelines.\n",
    "- **Product-Ready**: Designed for local reproducibility and scalable production use, with extensibility for distributed Weaviate or inference acceleration.\n"
   ]
  },
  {
   "cell_type": "code",
   "execution_count": null,
   "id": "1",
   "metadata": {},
   "outputs": [],
   "source": [
    "import sys\n",
    "from pathlib import Path\n",
    "import pickle\n",
    "\n",
    "\n",
    "project_root = Path().resolve()\n",
    "while not (project_root / 'embedding_pipeline').exists() and project_root != project_root.parent:\n",
    "    project_root = project_root.parent\n",
    "\n",
    "sys.path.append(str(project_root))\n"
   ]
  },
  {
   "cell_type": "code",
   "execution_count": null,
   "id": "2",
   "metadata": {},
   "outputs": [],
   "source": [
    "### Create the data objects based on the github repo data ###\n",
    "\n",
    "from pathlib import Path\n",
    "from embedding_pipeline.weaviate_db.weaviate_write_operations import create_data_objects, FOSSProjectDataObject, pickle_data_objects, unpickle_data_objects\n",
    "\n",
    "foss_name_description_json: Path = Path(\"../../json_github_data_cleaned/github_repositories_final_ordered.json\")\n",
    "\n",
    "data_objects: list[FOSSProjectDataObject] = create_data_objects(foss_name_description_json)\n"
   ]
  },
  {
   "cell_type": "code",
   "execution_count": null,
   "id": "3",
   "metadata": {},
   "outputs": [],
   "source": [
    "### Save Embedded vectors in case anything goes wrong! ###\n",
    "pickle_data_objects(data_objects=data_objects, output_file_name=\"CORRECT_foss_vectors.pkl\")\n"
   ]
  },
  {
   "cell_type": "code",
   "execution_count": null,
   "id": "4",
   "metadata": {},
   "outputs": [],
   "source": [
    "### Connect to local weaviate client and test connection ###\n",
    "\n",
    "from embedding_pipeline.weaviate_db.weaviate_config import connect_to_local_weaviate_client\n",
    "from embedding_pipeline.weaviate_db.weaviate_config import verify_weaviate_client_ready\n",
    "from embedding_pipeline.weaviate_db.weaviate_config import close_weaviate_client, create_foss_name_collection, create_description_name_collection\n",
    "from embedding_pipeline.weaviate_db.weaviate_config import list_weaviate_collections, inspect_collection_properties, retrieve_existing_weaviate_collection\n",
    "\n",
    "\n",
    "local_client = connect_to_local_weaviate_client()\n",
    "\n",
    "list_weaviate_collections(local_client)\n",
    "\n",
    "\n",
    "\n",
    "close_weaviate_client(local_client)\n"
   ]
  },
  {
   "cell_type": "code",
   "execution_count": null,
   "id": "6df14dbf",
   "metadata": {},
   "outputs": [],
   "source": [
    "### Create new weaviate collection ###\n",
    "NAME_COLLECTION = \"Embedded_FOSS_project_names\"\n",
    "DESCRIPTION_COLLECTION = \"Embedded_FOSS_project_names+descriptions\"\n",
    "\n",
    "local_client = connect_to_local_weaviate_client()\n",
    "\n",
    "### Create two new collections ###\n",
    "create_foss_name_collection(client=local_client,new_collection_name=NAME_COLLECTION)\n",
    "create_description_name_collection(client=local_client,new_collection_name=DESCRIPTION_COLLECTION)\n",
    "\n",
    "### inspect the collections ###\n",
    "inspect_collection_properties(local_client,collection_name=NAME_COLLECTION)\n",
    "inspect_collection_properties(local_client,collection_name=DESCRIPTION_COLLECTION)"
   ]
  },
  {
   "cell_type": "code",
   "execution_count": null,
   "id": "6",
   "metadata": {},
   "outputs": [],
   "source": [
    "local_client = connect_to_local_weaviate_client()\n",
    "\n",
    "\n",
    "\n",
    "foss_collection = retrieve_existing_weaviate_collection(NAME,local_client)\n",
    "inspect_collection_properties(local_client,NAME)\n",
    "\n",
    "close_weaviate_client(local_client)"
   ]
  },
  {
   "cell_type": "code",
   "execution_count": null,
   "id": "7",
   "metadata": {},
   "outputs": [],
   "source": [
    "vector_data_objects = unpickle_data_objects(pickle_file=)\n"
   ]
  },
  {
   "cell_type": "code",
   "execution_count": null,
   "id": "8",
   "metadata": {},
   "outputs": [],
   "source": [
    "### TIME TO COOK ###\n",
    "from embedding_pipeline.weaviate_db.weaviate_write_operations import batch_import_data_objects\n",
    "\n",
    "local_client = connect_to_local_weaviate_client()\n",
    "\n",
    "foss_collection = retrieve_existing_weaviate_collection(NAME,local_client)\n",
    "\n",
    "ready_huh = verify_weaviate_client_ready(local_client)\n",
    "if ready_huh:\n",
    "    print(\"freaking ready to cook and change the game\")\n",
    "\n",
    "\n",
    "batch_import_data_objects(data_objects=vector_data_objects,collection=foss_collection)\n",
    "\n",
    "close_weaviate_client(local_client)\n"
   ]
  },
  {
   "cell_type": "code",
   "execution_count": null,
   "id": "9",
   "metadata": {},
   "outputs": [],
   "source": [
    "import weaviate\n",
    "\n",
    "client = weaviate.connect_to_local()\n",
    "\n",
    "try:\n",
    "    collection = client.collections.get(NAME)\n",
    "    response = collection.aggregate.over_all(total_count=True)\n",
    "    \n",
    "    print(response.total_count)\n",
    "    \n",
    "finally:\n",
    "    client.close()"
   ]
  },
  {
   "cell_type": "code",
   "execution_count": null,
   "id": "10",
   "metadata": {},
   "outputs": [],
   "source": [
    "client = weaviate.connect_to_local()\n",
    "collection = client.collections.get(NAME)\n",
    "\n",
    "response = collection.query.fetch_objects(\n",
    "    include_vector=True,\n",
    "    limit=10\n",
    ")\n",
    "\n",
    "for obj in response.objects:\n",
    "    print(obj.properties)  # View object properties\n",
    "    print(obj.vector)\n",
    "    print(obj.uuid)        # View object ID\n",
    "\n",
    "client.close()"
   ]
  },
  {
   "cell_type": "code",
   "execution_count": null,
   "id": "11",
   "metadata": {},
   "outputs": [],
   "source": [
    "from embedding_pipeline.weaviate_db.weaviate_config import create_remote_weaviate_client\n",
    "\n",
    "remote_client = create_remote_weaviate_client()\n",
    "verify_weaviate_client_ready(remote_client)\n"
   ]
  },
  {
   "cell_type": "code",
   "execution_count": null,
   "id": "12",
   "metadata": {},
   "outputs": [],
   "source": [
    "\n",
    "verify_weaviate_client_ready(remote_client)\n",
    "#remote_collection = create_weaviate_collection(remote_client)\n",
    "\n",
    "inspect_collection_properties(remote_client,collection_name=NAME)\n",
    "\n"
   ]
  },
  {
   "cell_type": "code",
   "execution_count": null,
   "id": "13",
   "metadata": {},
   "outputs": [],
   "source": [
    "remote_foss_collection = retrieve_existing_weaviate_collection(collection_name=NAME,weaviate_client=remote_client)\n",
    "\n",
    "batch_import_data_objects(data_objects=vector_data_objects,collection=remote_foss_collection)"
   ]
  }
 ],
 "metadata": {
  "kernelspec": {
   "display_name": "pydriller_env",
   "language": "python",
   "name": "python3"
  },
  "language_info": {
   "codemirror_mode": {
    "name": "ipython",
    "version": 3
   },
   "file_extension": ".py",
   "mimetype": "text/x-python",
   "name": "python",
   "nbconvert_exporter": "python",
   "pygments_lexer": "ipython3",
   "version": "3.13.1"
  }
 },
 "nbformat": 4,
 "nbformat_minor": 5
}
