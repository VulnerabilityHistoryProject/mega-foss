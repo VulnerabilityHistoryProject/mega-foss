{
 "cells": [
  {
   "cell_type": "markdown",
   "id": "7160e4c1",
   "metadata": {},
   "source": [
    "### 🔧 FOSS Project Embedding Pipeline (Multimodel Ingestion to Weaviate)\n",
    "\n",
    "This notebook outlines the complete pipeline for embedding Free and Open Source Software (FOSS) project metadata (names and descriptions) using nine different transformer models. The resulting vector representations are ingested into a local Weaviate instance for semantic search and similarity-based retrieval.\n",
    "\n",
    "### 🎯 Goal\n",
    "\n",
    "To enable robust semantic matching of CVEs (Common Vulnerabilities and Exposures) to relevant FOSS projects by populating a vector database with diverse model embeddings of project descriptions and names.\n",
    "\n",
    "---\n",
    "\n",
    "### 🚀 Pipeline Overview\n",
    "\n",
    "1. **Data Ingestion**\n",
    "   - Load FOSS project metadata, specifically the `name` and `description` fields, from a structured dataset (e.g., JSON, CSV).\n",
    "   - Clean and preprocess the text (e.g., lowercasing, trimming, deduplication, handling nulls).\n",
    "\n",
    "2. **Model Embedding**\n",
    "   - Apply **nine transformer models** (e.g., from HuggingFace or Sentence Transformers) to generate vector representations of each FOSS project:\n",
    "     - Each model processes both the `name` and `description` separately.\n",
    "     - Models may include general-purpose encoders, domain-specific variants, or multilingual models.\n",
    "\n",
    "3. **Vector Storage in Weaviate**\n",
    "   - Connect to a **locally running Weaviate instance** with vector index enabled.\n",
    "   - Define a Weaviate schema with one class (e.g., `FOSSProject`) and multiple vector fields (e.g., `name_vector_model1`, `desc_vector_model1`, etc.).\n",
    "   - Insert project entries into Weaviate, including:\n",
    "     - Original metadata (name, description).\n",
    "     - All generated vectors with model-specific field names.\n",
    "     - Optional: metadata such as model used, processing time, or source info.\n",
    "\n",
    "4. **Search and Validation**\n",
    "   - Use Weaviate's vector search (`nearVector`) or hybrid search to validate embeddings by querying semantically similar entries.\n",
    "   - Optionally log distance or certainty metadata for inspection.\n",
    "\n",
    "---\n",
    "\n",
    "### 🧠 Key Benefits\n",
    "\n",
    "- **Multimodel Embedding**: Redundancy and diversity in embeddings improves robustness for downstream tasks (e.g., matching CVEs with fuzzy descriptions).\n",
    "- **Modular Architecture**: Easy to add/remove models, change Weaviate schema, or plug into external CVE parsing pipelines.\n",
    "- **Product-Ready**: Designed for local reproducibility and scalable production use, with extensibility for distributed Weaviate or inference acceleration.\n"
   ]
  },
  {
   "cell_type": "code",
   "execution_count": 7,
   "id": "bc392a1e",
   "metadata": {},
   "outputs": [],
   "source": [
    "import sys\n",
    "from pathlib import Path\n",
    "\n",
    "project_root = Path().resolve()\n",
    "while not (project_root / 'embedding_pipeline').exists() and project_root != project_root.parent:\n",
    "    project_root = project_root.parent\n",
    "\n",
    "sys.path.append(str(project_root))\n"
   ]
  },
  {
   "cell_type": "code",
   "execution_count": 8,
   "id": "475ce236",
   "metadata": {},
   "outputs": [
    {
     "ename": "ModuleNotFoundError",
     "evalue": "No module named 'load_models'",
     "output_type": "error",
     "traceback": [
      "\u001b[0;31m---------------------------------------------------------------------------\u001b[0m",
      "\u001b[0;31mModuleNotFoundError\u001b[0m                       Traceback (most recent call last)",
      "Cell \u001b[0;32mIn[8], line 2\u001b[0m\n\u001b[1;32m      1\u001b[0m \u001b[38;5;28;01mfrom\u001b[39;00m\u001b[38;5;250m \u001b[39m\u001b[38;5;21;01mpathlib\u001b[39;00m\u001b[38;5;250m \u001b[39m\u001b[38;5;28;01mimport\u001b[39;00m Path\n\u001b[0;32m----> 2\u001b[0m \u001b[38;5;28;01mfrom\u001b[39;00m\u001b[38;5;250m \u001b[39m\u001b[38;5;21;01membedding_pipeline\u001b[39;00m\u001b[38;5;21;01m.\u001b[39;00m\u001b[38;5;21;01mweaviate_db\u001b[39;00m\u001b[38;5;21;01m.\u001b[39;00m\u001b[38;5;21;01mweaviate_write_operations\u001b[39;00m\u001b[38;5;250m \u001b[39m\u001b[38;5;28;01mimport\u001b[39;00m create_data_objects\n\u001b[1;32m      4\u001b[0m foss_name_description_json: Path \u001b[38;5;241m=\u001b[39m Path(\u001b[38;5;124m\"\u001b[39m\u001b[38;5;124m../json_github_data_cleaned/github_repositories_final_ordered.json\u001b[39m\u001b[38;5;124m\"\u001b[39m)\n\u001b[1;32m      6\u001b[0m data_objects \u001b[38;5;241m=\u001b[39m create_data_objects(foss_name_description_json)\n",
      "File \u001b[0;32m~/code-projects/remote-repos/mega-foss-Trust-Worthy/src/cve/FOSS_composite_score/composite_score_scripts/embedding_pipeline/weaviate_db/weaviate_write_operations.py:17\u001b[0m\n\u001b[1;32m     14\u001b[0m \u001b[38;5;28;01mimport\u001b[39;00m\u001b[38;5;250m \u001b[39m\u001b[38;5;21;01mhashlib\u001b[39;00m\n\u001b[1;32m     15\u001b[0m \u001b[38;5;28;01mfrom\u001b[39;00m\u001b[38;5;250m \u001b[39m\u001b[38;5;21;01mdataclasses\u001b[39;00m\u001b[38;5;250m \u001b[39m\u001b[38;5;28;01mimport\u001b[39;00m dataclass\n\u001b[0;32m---> 17\u001b[0m \u001b[38;5;28;01mfrom\u001b[39;00m\u001b[38;5;250m \u001b[39m\u001b[38;5;21;01m.\u001b[39;00m\u001b[38;5;21;01m.\u001b[39;00m\u001b[38;5;21;01membedding_models\u001b[39;00m\u001b[38;5;21;01m.\u001b[39;00m\u001b[38;5;21;01mnomic_embed\u001b[39;00m\u001b[38;5;250m \u001b[39m\u001b[38;5;28;01mimport\u001b[39;00m embed_prompt_with_nomic\n\u001b[1;32m     18\u001b[0m \u001b[38;5;28;01mfrom\u001b[39;00m\u001b[38;5;250m \u001b[39m\u001b[38;5;21;01m.\u001b[39;00m\u001b[38;5;21;01m.\u001b[39;00m\u001b[38;5;21;01membedding_models\u001b[39;00m\u001b[38;5;21;01m.\u001b[39;00m\u001b[38;5;21;01mDISTIL_BERT_embed\u001b[39;00m\u001b[38;5;250m \u001b[39m\u001b[38;5;28;01mimport\u001b[39;00m embed_prompt_with_distil_bert\n\u001b[1;32m     19\u001b[0m \u001b[38;5;28;01mfrom\u001b[39;00m\u001b[38;5;250m \u001b[39m\u001b[38;5;21;01m.\u001b[39;00m\u001b[38;5;21;01m.\u001b[39;00m\u001b[38;5;21;01membedding_models\u001b[39;00m\u001b[38;5;21;01m.\u001b[39;00m\u001b[38;5;21;01mSBERT_mini_lm_l6_embed\u001b[39;00m\u001b[38;5;250m \u001b[39m\u001b[38;5;28;01mimport\u001b[39;00m embed_prompt_with_sbert_mini_l6\n",
      "File \u001b[0;32m~/code-projects/remote-repos/mega-foss-Trust-Worthy/src/cve/FOSS_composite_score/composite_score_scripts/embedding_pipeline/embedding_models/nomic_embed.py:11\u001b[0m\n\u001b[1;32m      1\u001b[0m \u001b[38;5;124;03m\"\"\"\u001b[39;00m\n\u001b[1;32m      2\u001b[0m \u001b[38;5;124;03mUsing nomic-embed-text-v1.5 to embed short 2-3 word prompts.\u001b[39;00m\n\u001b[1;32m      3\u001b[0m \u001b[38;5;124;03mVectorized prompts will be stored in a weaviate vector database for later analysis.\u001b[39;00m\n\u001b[0;32m   (...)\u001b[0m\n\u001b[1;32m      7\u001b[0m \n\u001b[1;32m      8\u001b[0m \u001b[38;5;124;03m\"\"\"\u001b[39;00m\n\u001b[0;32m---> 11\u001b[0m \u001b[38;5;28;01mfrom\u001b[39;00m\u001b[38;5;250m \u001b[39m\u001b[38;5;21;01mload_models\u001b[39;00m\u001b[38;5;250m \u001b[39m\u001b[38;5;28;01mimport\u001b[39;00m model_ollama_client, OLLAMA_NOMIC_EMBED_TEXT\n\u001b[1;32m     14\u001b[0m \u001b[38;5;28;01mdef\u001b[39;00m\u001b[38;5;250m \u001b[39m\u001b[38;5;21membed_prompt_with_nomic\u001b[39m(prompt: \u001b[38;5;28mstr\u001b[39m) \u001b[38;5;241m-\u001b[39m\u001b[38;5;241m>\u001b[39m \u001b[38;5;28mlist\u001b[39m[\u001b[38;5;28mfloat\u001b[39m]:\n\u001b[1;32m     15\u001b[0m \u001b[38;5;250m    \u001b[39m\u001b[38;5;124;03m\"\"\"\u001b[39;00m\n\u001b[1;32m     16\u001b[0m \u001b[38;5;124;03m    Embed a prompt using nomic-embed-text-v1.5\u001b[39;00m\n\u001b[1;32m     17\u001b[0m \n\u001b[0;32m   (...)\u001b[0m\n\u001b[1;32m     22\u001b[0m \u001b[38;5;124;03m        list[float]: Vectorized representation of the prompt. Either 768 vectors or 8192 depending on the model\u001b[39;00m\n\u001b[1;32m     23\u001b[0m \u001b[38;5;124;03m    \"\"\"\u001b[39;00m\n",
      "\u001b[0;31mModuleNotFoundError\u001b[0m: No module named 'load_models'"
     ]
    }
   ],
   "source": [
    "from pathlib import Path\n",
    "from embedding_pipeline.weaviate_db.weaviate_write_operations import create_data_objects\n",
    "\n",
    "foss_name_description_json: Path = Path(\"../json_github_data_cleaned/github_repositories_final_ordered.json\")\n",
    "\n",
    "data_objects = create_data_objects(foss_name_description_json)\n"
   ]
  }
 ],
 "metadata": {
  "kernelspec": {
   "display_name": "pydriller_env",
   "language": "python",
   "name": "python3"
  },
  "language_info": {
   "codemirror_mode": {
    "name": "ipython",
    "version": 3
   },
   "file_extension": ".py",
   "mimetype": "text/x-python",
   "name": "python",
   "nbconvert_exporter": "python",
   "pygments_lexer": "ipython3",
   "version": "3.13.1"
  }
 },
 "nbformat": 4,
 "nbformat_minor": 5
}
