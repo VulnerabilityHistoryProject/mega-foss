{
 "cells": [
  {
   "cell_type": "markdown",
   "id": "7160e4c1",
   "metadata": {},
   "source": [
    "### 🔧 FOSS Project Embedding Pipeline (Multimodel Ingestion to Weaviate)\n",
    "\n",
    "This notebook outlines the complete pipeline for embedding Free and Open Source Software (FOSS) project metadata (names and descriptions) using nine different transformer models. The resulting vector representations are ingested into a local Weaviate instance for semantic search and similarity-based retrieval.\n",
    "\n",
    "### 🎯 Goal\n",
    "\n",
    "To enable robust semantic matching of CVEs (Common Vulnerabilities and Exposures) to relevant FOSS projects by populating a vector database with diverse model embeddings of project descriptions and names.\n",
    "\n",
    "---\n",
    "\n",
    "### 🚀 Pipeline Overview\n",
    "\n",
    "1. **Data Ingestion**\n",
    "   - Load FOSS project metadata, specifically the `name` and `description` fields, from a structured dataset (e.g., JSON, CSV).\n",
    "   - Clean and preprocess the text (e.g., lowercasing, trimming, deduplication, handling nulls).\n",
    "\n",
    "2. **Model Embedding**\n",
    "   - Apply **nine transformer models** (e.g., from HuggingFace or Sentence Transformers) to generate vector representations of each FOSS project:\n",
    "     - Each model processes both the `name` and `description` separately.\n",
    "     - Models may include general-purpose encoders, domain-specific variants, or multilingual models.\n",
    "\n",
    "3. **Vector Storage in Weaviate**\n",
    "   - Connect to a **locally running Weaviate instance** with vector index enabled.\n",
    "   - Define a Weaviate schema with one class (e.g., `FOSSProject`) and multiple vector fields (e.g., `name_vector_model1`, `desc_vector_model1`, etc.).\n",
    "   - Insert project entries into Weaviate, including:\n",
    "     - Original metadata (name, description).\n",
    "     - All generated vectors with model-specific field names.\n",
    "     - Optional: metadata such as model used, processing time, or source info.\n",
    "\n",
    "4. **Search and Validation**\n",
    "   - Use Weaviate's vector search (`nearVector`) or hybrid search to validate embeddings by querying semantically similar entries.\n",
    "   - Optionally log distance or certainty metadata for inspection.\n",
    "\n",
    "---\n",
    "\n",
    "### 🧠 Key Benefits\n",
    "\n",
    "- **Multimodel Embedding**: Redundancy and diversity in embeddings improves robustness for downstream tasks (e.g., matching CVEs with fuzzy descriptions).\n",
    "- **Modular Architecture**: Easy to add/remove models, change Weaviate schema, or plug into external CVE parsing pipelines.\n",
    "- **Product-Ready**: Designed for local reproducibility and scalable production use, with extensibility for distributed Weaviate or inference acceleration.\n"
   ]
  },
  {
   "cell_type": "code",
   "execution_count": null,
   "id": "475ce236",
   "metadata": {},
   "outputs": [],
   "source": [
    "from weaviate_db.weaviate_write_operations import create_data_objects\n",
    "from pathlib import Path\n",
    "\n",
    "foss_name_description_json: Path = Path(\"../json_github_data_cleaned/github_repositories_final_ordered.json\")\n",
    "\n",
    "data_objects = create_data_objects(foss_name_description_json)\n"
   ]
  }
 ],
 "metadata": {
  "kernelspec": {
   "display_name": "pydriller_env",
   "language": "python",
   "name": "python3"
  },
  "language_info": {
   "codemirror_mode": {
    "name": "ipython",
    "version": 3
   },
   "file_extension": ".py",
   "mimetype": "text/x-python",
   "name": "python",
   "nbconvert_exporter": "python",
   "pygments_lexer": "ipython3",
   "version": "3.13.1"
  }
 },
 "nbformat": 4,
 "nbformat_minor": 5
}
