{
 "cells": [
  {
   "cell_type": "code",
   "execution_count": null,
   "metadata": {},
   "outputs": [],
   "source": [
    "import requests\n",
    "from dotenv import load_dotenv\n",
    "import os\n",
    "\n",
    "load_dotenv()\n",
    "GITHUB_TOKEN = os.getenv(\"GITHUB_TOKEN\")\n",
    "\n",
    "HEADERS = {\"Authorization\": f\"Bearer {GITHUB_TOKEN}\"}\n",
    "API_URL = \"https://api.github.com/graphql\"\n",
    "\n",
    "query = \"\"\"\n",
    "query ($after: String) {\n",
    "  search(query: \"stars:>1000\", type: REPOSITORY, first: 50, after: $after) {\n",
    "    repositoryCount\n",
    "    pageInfo {\n",
    "      endCursor\n",
    "      hasNextPage\n",
    "    }\n",
    "    edges {\n",
    "      node {\n",
    "        ... on Repository {\n",
    "          nameWithOwner\n",
    "          description\n",
    "          stargazerCount\n",
    "          forkCount\n",
    "          url\n",
    "          updatedAt\n",
    "          issues(states: OPEN) {\n",
    "            totalCount\n",
    "          }\n",
    "          watchers {\n",
    "            totalCount\n",
    "          }\n",
    "        }\n",
    "      }\n",
    "    }\n",
    "  }\n",
    "}\n",
    "\"\"\"\n"
   ]
  },
  {
   "cell_type": "code",
   "execution_count": 14,
   "metadata": {},
   "outputs": [],
   "source": [
    "\n",
    "\n",
    "def fetch_repos():\n",
    "    repos = []\n",
    "    variables = {\"after\": None}\n",
    "    while True:\n",
    "        response = requests.post(API_URL, json={\"query\": query, \"variables\": variables}, headers=HEADERS)\n",
    "        data = response.json()\n",
    "\n",
    "        if \"errors\" in data:\n",
    "            print(\"Error:\", data[\"errors\"])\n",
    "            break\n",
    "\n",
    "        search_data = data[\"data\"][\"search\"]\n",
    "        for edge in search_data[\"edges\"]:\n",
    "            repos.append(edge[\"node\"])\n",
    "\n",
    "        if not search_data[\"pageInfo\"][\"hasNextPage\"]:\n",
    "            break\n",
    "\n",
    "        variables[\"after\"] = search_data[\"pageInfo\"][\"endCursor\"]\n",
    "\n",
    "    return repos"
   ]
  },
  {
   "cell_type": "code",
   "execution_count": null,
   "metadata": {},
   "outputs": [],
   "source": [
    "def "
   ]
  },
  {
   "cell_type": "code",
   "execution_count": 16,
   "metadata": {},
   "outputs": [
    {
     "ename": "KeyError",
     "evalue": "'data'",
     "output_type": "error",
     "traceback": [
      "\u001b[0;31m---------------------------------------------------------------------------\u001b[0m",
      "\u001b[0;31mKeyError\u001b[0m                                  Traceback (most recent call last)",
      "Cell \u001b[0;32mIn[16], line 2\u001b[0m\n\u001b[1;32m      1\u001b[0m \u001b[38;5;28;01mif\u001b[39;00m \u001b[38;5;18m__name__\u001b[39m \u001b[38;5;241m==\u001b[39m \u001b[38;5;124m\"\u001b[39m\u001b[38;5;124m__main__\u001b[39m\u001b[38;5;124m\"\u001b[39m:\n\u001b[0;32m----> 2\u001b[0m     all_repos \u001b[38;5;241m=\u001b[39m \u001b[43mfetch_repos\u001b[49m\u001b[43m(\u001b[49m\u001b[43m)\u001b[49m\n\u001b[1;32m      3\u001b[0m     \u001b[38;5;28mprint\u001b[39m(\u001b[38;5;124mf\u001b[39m\u001b[38;5;124m\"\u001b[39m\u001b[38;5;124mFound \u001b[39m\u001b[38;5;132;01m{\u001b[39;00m\u001b[38;5;28mlen\u001b[39m(all_repos)\u001b[38;5;132;01m}\u001b[39;00m\u001b[38;5;124m repositories with > 1000 stars.\u001b[39m\u001b[38;5;124m\"\u001b[39m)\n\u001b[1;32m      4\u001b[0m     \u001b[38;5;28;01mfor\u001b[39;00m repo \u001b[38;5;129;01min\u001b[39;00m all_repos[:\u001b[38;5;241m5\u001b[39m]:\n",
      "Cell \u001b[0;32mIn[14], line 12\u001b[0m, in \u001b[0;36mfetch_repos\u001b[0;34m()\u001b[0m\n\u001b[1;32m      9\u001b[0m     \u001b[38;5;28mprint\u001b[39m(\u001b[38;5;124m\"\u001b[39m\u001b[38;5;124mError:\u001b[39m\u001b[38;5;124m\"\u001b[39m, data[\u001b[38;5;124m\"\u001b[39m\u001b[38;5;124merrors\u001b[39m\u001b[38;5;124m\"\u001b[39m])\n\u001b[1;32m     10\u001b[0m     \u001b[38;5;28;01mbreak\u001b[39;00m\n\u001b[0;32m---> 12\u001b[0m search_data \u001b[38;5;241m=\u001b[39m \u001b[43mdata\u001b[49m\u001b[43m[\u001b[49m\u001b[38;5;124;43m\"\u001b[39;49m\u001b[38;5;124;43mdata\u001b[39;49m\u001b[38;5;124;43m\"\u001b[39;49m\u001b[43m]\u001b[49m[\u001b[38;5;124m\"\u001b[39m\u001b[38;5;124msearch\u001b[39m\u001b[38;5;124m\"\u001b[39m]\n\u001b[1;32m     13\u001b[0m \u001b[38;5;28;01mfor\u001b[39;00m edge \u001b[38;5;129;01min\u001b[39;00m search_data[\u001b[38;5;124m\"\u001b[39m\u001b[38;5;124medges\u001b[39m\u001b[38;5;124m\"\u001b[39m]:\n\u001b[1;32m     14\u001b[0m     repos\u001b[38;5;241m.\u001b[39mappend(edge[\u001b[38;5;124m\"\u001b[39m\u001b[38;5;124mnode\u001b[39m\u001b[38;5;124m\"\u001b[39m])\n",
      "\u001b[0;31mKeyError\u001b[0m: 'data'"
     ]
    }
   ],
   "source": [
    "if __name__ == \"__main__\":\n",
    "    all_repos = fetch_repos()\n",
    "    print(f\"Found {len(all_repos)} repositories with > 1000 stars.\")\n",
    "    for repo in all_repos[:5]:\n",
    "        print(f\"{repo['nameWithOwner']} — ⭐ {repo['stargazerCount']} — {repo['url']}\")\n"
   ]
  }
 ],
 "metadata": {
  "kernelspec": {
   "display_name": "pydriller_env",
   "language": "python",
   "name": "python3"
  },
  "language_info": {
   "codemirror_mode": {
    "name": "ipython",
    "version": 3
   },
   "file_extension": ".py",
   "mimetype": "text/x-python",
   "name": "python",
   "nbconvert_exporter": "python",
   "pygments_lexer": "ipython3",
   "version": "3.13.1"
  }
 },
 "nbformat": 4,
 "nbformat_minor": 2
}
